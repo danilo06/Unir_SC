{
  "nbformat": 4,
  "nbformat_minor": 0,
  "metadata": {
    "colab": {
      "provenance": []
    },
    "kernelspec": {
      "name": "python3",
      "display_name": "Python 3"
    },
    "language_info": {
      "name": "python"
    }
  },
  "cells": [
    {
      "cell_type": "markdown",
      "metadata": {
        "id": "iiDzBoKGwmMZ"
      },
      "source": [
        "# REDES NEURONALES\n",
        "\n",
        "---\n",
        "\n",
        "\n",
        "\n",
        "En esta actividad vamos a utilizar una red neuronal para clasificar imágenes de prendas de ropa. Para ello, utilizaremos Keras con TensorFlow.\n",
        "\n",
        "El dataset a utilizar es Fashion MNIST, un problema sencillo con imágenes pequeñas de ropa, pero más interesante que el dataset de MNIST. Puedes consultar más información sobre el dataset en [este enlace](https://github.com/zalandoresearch/fashion-mnist).\n",
        "\n",
        "El código utilizado para contestar tiene que quedar claramente reflejado en el Notebook. Puedes crear nuevas celdas si así lo deseas para estructurar tu código y sus salidas. A la hora de entregar el notebook, **asegúrate de que los resultados de ejecutar tu código han quedado guardados**. Por ejemplo, a la hora de entrenar una red neuronal tiene que verse claramente un log de los resultados de cada epoch."
      ]
    },
    {
      "cell_type": "code",
      "metadata": {
        "id": "gSHr268SwmMa"
      },
      "source": [
        "import keras\n",
        "from keras.datasets import fashion_mnist\n",
        "from keras.models import Sequential\n",
        "from keras.layers import Dense\n",
        "import tensorflow as tf\n",
        "\n",
        "import matplotlib.pyplot as plt"
      ],
      "execution_count": 1,
      "outputs": []
    },
    {
      "cell_type": "markdown",
      "metadata": {
        "id": "zScMKU2OKSPD"
      },
      "source": [
        "En primer lugar vamos a importar el dataset Fashion MNIST (recordad que este es uno de los dataset de entranamiento que estan guardados en keras) que es el que vamos a utilizar en esta actividad:"
      ]
    },
    {
      "cell_type": "code",
      "metadata": {
        "id": "4voG2hxxG4h3"
      },
      "source": [
        "mnist = tf.keras.datasets.fashion_mnist"
      ],
      "execution_count": 2,
      "outputs": []
    },
    {
      "cell_type": "markdown",
      "metadata": {
        "id": "JphLsCvgKrzb"
      },
      "source": [
        "Llamar a **load_data** en este dataset nos dará dos conjuntos de dos listas, estos serán los valores de entrenamiento y prueba para los gráficos que contienen las prendas de vestir y sus etiquetas.\n",
        "\n",
        "Nota: Aunque en esta actividad lo veis de esta forma, también lo vais a poder encontrar como 4 variables de esta forma: training_images, training_labels, test_images, test_labels = mnist.load_data()"
      ]
    },
    {
      "cell_type": "code",
      "metadata": {
        "id": "1muD4PHEG4h6",
        "colab": {
          "base_uri": "https://localhost:8080/"
        },
        "outputId": "7f3c2a00-109e-4132-9df5-d343b4f8d7d3"
      },
      "source": [
        "(training_images, training_labels), (test_images, test_labels) = mnist.load_data()"
      ],
      "execution_count": 3,
      "outputs": [
        {
          "output_type": "stream",
          "name": "stdout",
          "text": [
            "Downloading data from https://storage.googleapis.com/tensorflow/tf-keras-datasets/train-labels-idx1-ubyte.gz\n",
            "29515/29515 [==============================] - 0s 0us/step\n",
            "Downloading data from https://storage.googleapis.com/tensorflow/tf-keras-datasets/train-images-idx3-ubyte.gz\n",
            "26421880/26421880 [==============================] - 0s 0us/step\n",
            "Downloading data from https://storage.googleapis.com/tensorflow/tf-keras-datasets/t10k-labels-idx1-ubyte.gz\n",
            "5148/5148 [==============================] - 0s 0us/step\n",
            "Downloading data from https://storage.googleapis.com/tensorflow/tf-keras-datasets/t10k-images-idx3-ubyte.gz\n",
            "4422102/4422102 [==============================] - 0s 0us/step\n"
          ]
        }
      ]
    },
    {
      "cell_type": "markdown",
      "metadata": {
        "id": "ZWGpJqVVLT3Y"
      },
      "source": [
        "Antes de continuar vamos a dar un vistazo a nuestro dataset, para ello vamos a ver una imagen de entrenamiento y su etiqueta o clase."
      ]
    },
    {
      "cell_type": "code",
      "metadata": {
        "id": "t5a5PlswG4h8",
        "colab": {
          "base_uri": "https://localhost:8080/",
          "height": 948
        },
        "outputId": "1bfee536-2278-47ad-ee0f-be7fffb2101e"
      },
      "source": [
        "import numpy as np\n",
        "np.set_printoptions(linewidth=200)\n",
        "import matplotlib.pyplot as plt\n",
        "plt.imshow(training_images[0], cmap=\"gray\") # recordad que siempre es preferible trabajar en blanco y negro\n",
        "#\n",
        "print(training_labels[0])\n",
        "print(training_images[0])"
      ],
      "execution_count": 4,
      "outputs": [
        {
          "output_type": "stream",
          "name": "stdout",
          "text": [
            "9\n",
            "[[  0   0   0   0   0   0   0   0   0   0   0   0   0   0   0   0   0   0   0   0   0   0   0   0   0   0   0   0]\n",
            " [  0   0   0   0   0   0   0   0   0   0   0   0   0   0   0   0   0   0   0   0   0   0   0   0   0   0   0   0]\n",
            " [  0   0   0   0   0   0   0   0   0   0   0   0   0   0   0   0   0   0   0   0   0   0   0   0   0   0   0   0]\n",
            " [  0   0   0   0   0   0   0   0   0   0   0   0   1   0   0  13  73   0   0   1   4   0   0   0   0   1   1   0]\n",
            " [  0   0   0   0   0   0   0   0   0   0   0   0   3   0  36 136 127  62  54   0   0   0   1   3   4   0   0   3]\n",
            " [  0   0   0   0   0   0   0   0   0   0   0   0   6   0 102 204 176 134 144 123  23   0   0   0   0  12  10   0]\n",
            " [  0   0   0   0   0   0   0   0   0   0   0   0   0   0 155 236 207 178 107 156 161 109  64  23  77 130  72  15]\n",
            " [  0   0   0   0   0   0   0   0   0   0   0   1   0  69 207 223 218 216 216 163 127 121 122 146 141  88 172  66]\n",
            " [  0   0   0   0   0   0   0   0   0   1   1   1   0 200 232 232 233 229 223 223 215 213 164 127 123 196 229   0]\n",
            " [  0   0   0   0   0   0   0   0   0   0   0   0   0 183 225 216 223 228 235 227 224 222 224 221 223 245 173   0]\n",
            " [  0   0   0   0   0   0   0   0   0   0   0   0   0 193 228 218 213 198 180 212 210 211 213 223 220 243 202   0]\n",
            " [  0   0   0   0   0   0   0   0   0   1   3   0  12 219 220 212 218 192 169 227 208 218 224 212 226 197 209  52]\n",
            " [  0   0   0   0   0   0   0   0   0   0   6   0  99 244 222 220 218 203 198 221 215 213 222 220 245 119 167  56]\n",
            " [  0   0   0   0   0   0   0   0   0   4   0   0  55 236 228 230 228 240 232 213 218 223 234 217 217 209  92   0]\n",
            " [  0   0   1   4   6   7   2   0   0   0   0   0 237 226 217 223 222 219 222 221 216 223 229 215 218 255  77   0]\n",
            " [  0   3   0   0   0   0   0   0   0  62 145 204 228 207 213 221 218 208 211 218 224 223 219 215 224 244 159   0]\n",
            " [  0   0   0   0  18  44  82 107 189 228 220 222 217 226 200 205 211 230 224 234 176 188 250 248 233 238 215   0]\n",
            " [  0  57 187 208 224 221 224 208 204 214 208 209 200 159 245 193 206 223 255 255 221 234 221 211 220 232 246   0]\n",
            " [  3 202 228 224 221 211 211 214 205 205 205 220 240  80 150 255 229 221 188 154 191 210 204 209 222 228 225   0]\n",
            " [ 98 233 198 210 222 229 229 234 249 220 194 215 217 241  65  73 106 117 168 219 221 215 217 223 223 224 229  29]\n",
            " [ 75 204 212 204 193 205 211 225 216 185 197 206 198 213 240 195 227 245 239 223 218 212 209 222 220 221 230  67]\n",
            " [ 48 203 183 194 213 197 185 190 194 192 202 214 219 221 220 236 225 216 199 206 186 181 177 172 181 205 206 115]\n",
            " [  0 122 219 193 179 171 183 196 204 210 213 207 211 210 200 196 194 191 195 191 198 192 176 156 167 177 210  92]\n",
            " [  0   0  74 189 212 191 175 172 175 181 185 188 189 188 193 198 204 209 210 210 211 188 188 194 192 216 170   0]\n",
            " [  2   0   0   0  66 200 222 237 239 242 246 243 244 221 220 193 191 179 182 182 181 176 166 168  99  58   0   0]\n",
            " [  0   0   0   0   0   0   0  40  61  44  72  41  35   0   0   0   0   0   0   0   0   0   0   0   0   0   0   0]\n",
            " [  0   0   0   0   0   0   0   0   0   0   0   0   0   0   0   0   0   0   0   0   0   0   0   0   0   0   0   0]\n",
            " [  0   0   0   0   0   0   0   0   0   0   0   0   0   0   0   0   0   0   0   0   0   0   0   0   0   0   0   0]]\n"
          ]
        },
        {
          "output_type": "display_data",
          "data": {
            "text/plain": [
              "<Figure size 640x480 with 1 Axes>"
            ],
            "image/png": "[encoded data removed]"
          },
          "metadata": {}
        }
      ]
    },
    {
      "cell_type": "markdown",
      "metadata": {
        "id": "WCJvZx3MLucY"
      },
      "source": [
        "Habreis notado que todos los valores numericos están entre 0 y 255. Si estamos entrenando una red neuronal, una buena practica es transformar todos los valores entre 0 y 1, un proceso llamado \"normalización\" y afortunadamente en Python es fácil normalizar una lista. Lo puedes hacer de esta manera:"
      ]
    },
    {
      "cell_type": "code",
      "metadata": {
        "id": "tojL1BmjG4h_"
      },
      "source": [
        "training_images  = training_images / 255.0\n",
        "test_images = test_images / 255.0"
      ],
      "execution_count": 5,
      "outputs": []
    },
    {
      "cell_type": "markdown",
      "metadata": {
        "id": "BaqXlSMBwmMg"
      },
      "source": [
        "## 1. Información sobre el dataset"
      ]
    },
    {
      "cell_type": "markdown",
      "metadata": {
        "id": "e0aer8ZZwmMh"
      },
      "source": [
        "Una vez tenemos los datos cargados en memoria, vamos a obtener información sobre los mismos."
      ]
    },
    {
      "cell_type": "markdown",
      "metadata": {
        "id": "E-im9PnEwmMh"
      },
      "source": [
        "**Pregunta 1.1 *(0.25 puntos)*** ¿Cuántas imágenes hay de *training* y de *test*? ¿Qué tamaño tienen las imágenes?"
      ]
    },
    {
      "cell_type": "code",
      "metadata": {
        "id": "lvP0Y4SCwmMi",
        "colab": {
          "base_uri": "https://localhost:8080/"
        },
        "outputId": "c794f1b0-49e3-4a63-dd39-924ff5be56b0"
      },
      "source": [
        "print(f\"Training shape: {training_images.shape}\")\n",
        "print(f\"Test shape: {test_images.shape}\")"
      ],
      "execution_count": 6,
      "outputs": [
        {
          "output_type": "stream",
          "name": "stdout",
          "text": [
            "Training shape: (60000, 28, 28)\n",
            "Test shape: (10000, 28, 28)\n"
          ]
        }
      ]
    },
    {
      "cell_type": "markdown",
      "metadata": {
        "id": "Xwp5ljFKwmMj"
      },
      "source": [
        "Los datos de **TRAINING** cuentan con una lista de 60.000 imagenes las cuales cuentan con un tamaño de 28 x 28 pixeles.\n",
        "\n",
        "Los datos de **TEST** cuentan con una lista de 10.000 imagenes las cuales cuentan con un tamaño de 28 x 28 pixeles."
      ]
    },
    {
      "cell_type": "markdown",
      "metadata": {
        "id": "F2LsvfHOwmMk"
      },
      "source": [
        "**Pregunta 1.2 *(0.25 puntos)*** Realizar una exploración de las variables que contienen los datos. Describir en qué consiste un example del dataset (qué información se guarda en cada imagen) y describir qué contiene la información en y."
      ]
    },
    {
      "cell_type": "code",
      "metadata": {
        "id": "3W5rzaGxwmMk",
        "colab": {
          "base_uri": "https://localhost:8080/",
          "height": 593
        },
        "outputId": "df03b927-252e-45ca-8f17-fe472bdfa0ab"
      },
      "source": [
        "plt.imshow(training_images[1])\n",
        "print(\"Training\")\n",
        "print(f\"Values: {set(training_images[1][0])}\")\n",
        "print(f\"Tipo de dato: {type(training_images[1][1][1])}\")\n",
        "\n",
        "\n",
        "print(\"\\n\\nY labels\")\n",
        "print(f\"Valores unicos: {set(training_labels)}\")\n",
        "print(f\"Cantidad: {len(training_labels)}\")\n"
      ],
      "execution_count": 7,
      "outputs": [
        {
          "output_type": "stream",
          "name": "stdout",
          "text": [
            "Training\n",
            "Values: {0.0, 0.7372549019607844, 0.00392156862745098, 0.1607843137254902, 0.403921568627451, 0.21176470588235294, 0.18823529411764706, 0.16862745098039217, 0.3411764705882353, 0.6588235294117647, 0.5215686274509804, 0.06274509803921569}\n",
            "Tipo de dato: <class 'numpy.float64'>\n",
            "\n",
            "\n",
            "Y labels\n",
            "Valores unicos: {0, 1, 2, 3, 4, 5, 6, 7, 8, 9}\n",
            "Cantidad: 60000\n"
          ]
        },
        {
          "output_type": "display_data",
          "data": {
            "text/plain": [
              "<Figure size 640x480 with 1 Axes>"
            ],
            "image/png": "[encoded data removed]"
          },
          "metadata": {}
        }
      ]
    },
    {
      "cell_type": "markdown",
      "metadata": {
        "id": "zaEWKFyvwmMm"
      },
      "source": [
        "### Training\n",
        "Las variables training_images y test_imges contienen una lista de imagenes almacenadas en una estructura de narray la cual contiene en su minima expresion el valor de cada pixel que conforma la imagen en cada una de sus posiciones al ser 28 x 28, tal valor corresponde a un numero de tipo float64\n",
        "\n",
        "### Labels o Y\n",
        "Al analizar los valores de training_labels y test_labels se identifica que contienen una lista de valores en el rango de 0 a 9, los cuales corresponden al la clasificacion esperada para cada imagen. Es por esto que tanto que training_images y training labels tienen la misma cantidad, pues es una relacion de 1 a 1, como tambien lo es en test_images con test_labels."
      ]
    },
    {
      "cell_type": "markdown",
      "source": [
        "## 2. Creación del Modelo"
      ],
      "metadata": {
        "id": "dI3IAhOQ8zHi"
      }
    },
    {
      "cell_type": "markdown",
      "metadata": {
        "id": "yYUWWsszMAKt"
      },
      "source": [
        "Ahora vamos a definir el modelo, pero antes vamos a repasar algunos comandos y conceptos muy útiles:\n",
        "* **Sequential**: Eso define una SECUENCIA de capas en la red neuronal\n",
        "* **Dense**: Añade una capa de neuronas\n",
        "* **Flatten**: ¿Recuerdas cómo eran las imágenes cuando las imprimiste para poder verlas? Un cuadrado, Flatten toma ese cuadrado y lo convierte en un vector de una dimensión.\n",
        "\n",
        "Cada capa de neuronas necesita una función de activación. Normalmente se usa la función relu en las capas intermedias y softmax en la ultima capa (en problemas de clasificación de más de dos items)\n",
        "* **Relu** significa que \"Si X>0 devuelve X, si no, devuelve 0\", así que lo que hace es pasar sólo valores 0 o mayores a la siguiente capa de la red.\n",
        "* **Softmax** toma un conjunto de valores, y escoge el más grande."
      ]
    },
    {
      "cell_type": "markdown",
      "metadata": {
        "id": "QgBW1yE2MwPp"
      },
      "source": [
        " **Pregunta 2.1 (2 puntos)**. Utilizando Keras, y preparando los datos de X e y como fuera necesario, define y entrena una red neuronal que sea capaz de clasificar imágenes de Fashion MNIST con las siguientes características:\n",
        "\n",
        "* Una hidden layer de tamaños 128, utilizando unidades sigmoid\n",
        "Optimizador Adam.\n",
        "* Durante el entrenamiento, la red tiene que mostrar resultados de loss y accuracy por cada epoch.\n",
        "* La red debe entrenar durante 10 epochs y batch size de 64.\n",
        "* La última capa debe de ser una capa softmax.\n",
        "* Tu red tendría que ser capaz de superar fácilmente 80% de accuracy."
      ]
    },
    {
      "cell_type": "code",
      "metadata": {
        "id": "aTaD2QXIORwu"
      },
      "source": [
        "### Tu código para la red neuronal de la pregunta 2 aquí ###\n",
        "\n",
        "model= keras.models.Sequential()\n",
        "model.add(keras.layers.Flatten(input_shape=[28,28]))\n",
        "model.add(keras.layers.Dense(128, activation=\"sigmoid\"))\n",
        "model.add(keras.layers.Dense(10, activation=\"softmax\"))"
      ],
      "execution_count": 8,
      "outputs": []
    },
    {
      "cell_type": "code",
      "source": [
        "model.summary()"
      ],
      "metadata": {
        "colab": {
          "base_uri": "https://localhost:8080/"
        },
        "id": "HEo4DtPVsKJz",
        "outputId": "9a9a29b2-b68d-4b0a-af4e-a21405f27b31"
      },
      "execution_count": 9,
      "outputs": [
        {
          "output_type": "stream",
          "name": "stdout",
          "text": [
            "Model: \"sequential\"\n",
            "_________________________________________________________________\n",
            " Layer (type)                Output Shape              Param #   \n",
            "=================================================================\n",
            " flatten (Flatten)           (None, 784)               0         \n",
            "                                                                 \n",
            " dense (Dense)               (None, 128)               100480    \n",
            "                                                                 \n",
            " dense_1 (Dense)             (None, 10)                1290      \n",
            "                                                                 \n",
            "=================================================================\n",
            "Total params: 101770 (397.54 KB)\n",
            "Trainable params: 101770 (397.54 KB)\n",
            "Non-trainable params: 0 (0.00 Byte)\n",
            "_________________________________________________________________\n"
          ]
        }
      ]
    },
    {
      "cell_type": "code",
      "source": [
        "model.compile(optimizer='adam',\n",
        "              loss='sparse_categorical_crossentropy',\n",
        "              metrics=['accuracy'])"
      ],
      "metadata": {
        "id": "Ys0xIWEpsyz2"
      },
      "execution_count": 10,
      "outputs": []
    },
    {
      "cell_type": "code",
      "source": [
        "history = model.fit(\n",
        "      training_images,\n",
        "      training_labels,\n",
        "      epochs=10,\n",
        "      batch_size=64,\n",
        "      validation_data=(test_images, test_labels)\n",
        "    )"
      ],
      "metadata": {
        "colab": {
          "base_uri": "https://localhost:8080/"
        },
        "id": "jjzyPj_Ctsqx",
        "outputId": "67b105ac-ab7e-49dc-e3bc-5a2e765a951a"
      },
      "execution_count": 11,
      "outputs": [
        {
          "output_type": "stream",
          "name": "stdout",
          "text": [
            "Epoch 1/10\n",
            "938/938 [==============================] - 6s 5ms/step - loss: 0.5951 - accuracy: 0.8020 - val_loss: 0.4700 - val_accuracy: 0.8339\n",
            "Epoch 2/10\n",
            "938/938 [==============================] - 4s 4ms/step - loss: 0.4115 - accuracy: 0.8535 - val_loss: 0.4244 - val_accuracy: 0.8460\n",
            "Epoch 3/10\n",
            "938/938 [==============================] - 4s 4ms/step - loss: 0.3743 - accuracy: 0.8662 - val_loss: 0.4095 - val_accuracy: 0.8509\n",
            "Epoch 4/10\n",
            "938/938 [==============================] - 5s 5ms/step - loss: 0.3505 - accuracy: 0.8747 - val_loss: 0.3795 - val_accuracy: 0.8657\n",
            "Epoch 5/10\n",
            "938/938 [==============================] - 4s 4ms/step - loss: 0.3321 - accuracy: 0.8802 - val_loss: 0.3712 - val_accuracy: 0.8676\n",
            "Epoch 6/10\n",
            "938/938 [==============================] - 7s 8ms/step - loss: 0.3154 - accuracy: 0.8864 - val_loss: 0.3682 - val_accuracy: 0.8693\n",
            "Epoch 7/10\n",
            "938/938 [==============================] - 9s 10ms/step - loss: 0.3047 - accuracy: 0.8893 - val_loss: 0.3572 - val_accuracy: 0.8720\n",
            "Epoch 8/10\n",
            "938/938 [==============================] - 8s 9ms/step - loss: 0.2929 - accuracy: 0.8928 - val_loss: 0.3483 - val_accuracy: 0.8759\n",
            "Epoch 9/10\n",
            "938/938 [==============================] - 4s 4ms/step - loss: 0.2820 - accuracy: 0.8978 - val_loss: 0.3431 - val_accuracy: 0.8782\n",
            "Epoch 10/10\n",
            "938/938 [==============================] - 4s 4ms/step - loss: 0.2726 - accuracy: 0.9010 - val_loss: 0.3356 - val_accuracy: 0.8806\n"
          ]
        }
      ]
    },
    {
      "cell_type": "markdown",
      "source": [
        "### Respuesta\n",
        "\n",
        "Tal como se solicita, se procede a definir la estructura del modelo con solo una capa oculta de tamaño 128, funcion de activacion sigmoid y una capa final sofmax. Como se puede observar el proceso reduce de forma optima el loss y mejora el acurracy a medida que avanza en cada epochs.\n"
      ],
      "metadata": {
        "id": "NYpXaWP8sT5L"
      }
    },
    {
      "cell_type": "markdown",
      "metadata": {
        "id": "Bxr5hTKYOQnK"
      },
      "source": [
        "Para concluir el entrenamiento de la red neuronal, una buena practica es evaluar el modelo para ver si la precisión de entrenamiento es real\n",
        "\n",
        "**pregunta 2.2 (0.5 puntos)**: evalua el modelo con las imagenes y etiquetas test."
      ]
    },
    {
      "cell_type": "code",
      "metadata": {
        "id": "VNjQEtUUG4iI",
        "colab": {
          "base_uri": "https://localhost:8080/"
        },
        "outputId": "e052e380-ae89-42c3-8100-ddc76db4b0e8"
      },
      "source": [
        "model.evaluate(test_images,test_labels)"
      ],
      "execution_count": 12,
      "outputs": [
        {
          "output_type": "stream",
          "name": "stdout",
          "text": [
            "313/313 [==============================] - 1s 2ms/step - loss: 0.3356 - accuracy: 0.8806\n"
          ]
        },
        {
          "output_type": "execute_result",
          "data": {
            "text/plain": [
              "[0.33555448055267334, 0.8805999755859375]"
            ]
          },
          "metadata": {},
          "execution_count": 12
        }
      ]
    },
    {
      "cell_type": "markdown",
      "metadata": {
        "id": "ygMVnmSYO83U"
      },
      "source": [
        "Ahora vamos a explorar el código con una serie de ejercicios para alcanzar un grado de comprensión mayor sobre las redes neuronales y su entrenamiento.\n",
        "\n",
        "## 3: Funcionamiento de las predicción de la red neuronal\n",
        "\n",
        "Sigue los siguientes pasos:\n",
        "\n",
        "* Crea una variable llamada **classifications** para construir un clasificador con las imágenes de prueba, para ello puedes utilizar la función predict sobre el conjunto de test\n",
        "* Imprime con la función print la primera entrada en las clasificaciones.\n",
        "\n",
        "**pregunta 3.1 (0.25 puntos)**, el resultado al imprimirlo es un vector de números,\n",
        "* ¿Por qué crees que ocurre esto, y qué representa este vector de números?\n",
        "\n",
        "**pregunta 3.2 (0.25 puntos)**\n",
        "* ¿Cúal es la clase de la primera entrada#  de la variable **classifications**? La respuesta puede ser un número o su etiqueta/clase equivalente."
      ]
    },
    {
      "cell_type": "code",
      "metadata": {
        "id": "b-mL-h4xQhCm",
        "colab": {
          "base_uri": "https://localhost:8080/"
        },
        "outputId": "792d5dff-12cf-4736-ad9f-67c0178ca5d4"
      },
      "source": [
        "### Tu código del clasificador de la pregunta 3 aquí ###\n",
        "\n",
        "classifications = model.predict(test_images)\n",
        "np.set_printoptions(suppress=True)\n",
        "print(classifications[0])"
      ],
      "execution_count": 13,
      "outputs": [
        {
          "output_type": "stream",
          "name": "stdout",
          "text": [
            "313/313 [==============================] - 1s 2ms/step\n",
            "[0.00000553 0.00000081 0.00000755 0.00001834 0.00002232 0.012551   0.00007332 0.06966016 0.00048967 0.9171712 ]\n"
          ]
        }
      ]
    },
    {
      "cell_type": "markdown",
      "metadata": {
        "id": "pvbVC9gaQhMY"
      },
      "source": [
        "Tu respuesta a la pregunta 3.1 aquí:\n",
        "\n",
        "El vector generado tiene una longitud de 10, lo cual corresponde con la cantidad de clases posibles a asignar y la probabilidad de pertenecer a cada una de estas."
      ]
    },
    {
      "cell_type": "markdown",
      "metadata": {
        "id": "oRWo-75tdgv0"
      },
      "source": [
        "Tu respuesta a la pregunta 3.2 aquí:\n",
        "\n",
        "La clase de la primera entrada corresponde a la numero 10, la ultima de este vector dado a que la probabilidad de pertenecer a esta es de 0.9 siendo esta la mayor."
      ]
    },
    {
      "cell_type": "markdown",
      "metadata": {
        "id": "hiQ8qAzhRQ4L"
      },
      "source": [
        "# **4: Impacto variar el número de neuronas en las capas ocultas**\n",
        "\n",
        "En este ejercicio vamos a experimentar con nuestra red neuronal cambiando el numero de neuronas por 512 y por 1024. Para ello, utiliza la red neuronal de la pregunta 1, y su capa oculta cambia las 128 neuronas:\n",
        "\n",
        "* **512 neuronas en la capa oculta\n",
        "* **1024 neuronas en la capa oculta\n",
        "\n",
        "y entrena la red en ambos casos.\n",
        "\n"
      ]
    },
    {
      "cell_type": "code",
      "metadata": {
        "id": "cdP8ZwuaUV93",
        "colab": {
          "base_uri": "https://localhost:8080/"
        },
        "outputId": "37db1056-de01-4143-9c2f-3f4f4a9b7e8c"
      },
      "source": [
        "### Tu código para 512 neuronas aquí ###\n",
        "\n",
        "model_512 = keras.models.Sequential()\n",
        "model_512.add(keras.layers.Flatten(input_shape=[28,28]))\n",
        "model_512.add(keras.layers.Dense(512, activation=\"sigmoid\"))\n",
        "model_512.add(keras.layers.Dense(10, activation=\"softmax\"))\n",
        "\n",
        "model_512.compile(optimizer='adam',\n",
        "              loss='sparse_categorical_crossentropy',\n",
        "              metrics=['accuracy'])\n",
        "\n",
        "history_512 = model_512.fit(\n",
        "      training_images,\n",
        "      training_labels,\n",
        "      epochs=10,\n",
        "      batch_size=64,\n",
        "      validation_data=(test_images, test_labels)\n",
        "    )"
      ],
      "execution_count": 20,
      "outputs": [
        {
          "output_type": "stream",
          "name": "stdout",
          "text": [
            "Epoch 1/10\n",
            "938/938 [==============================] - 11s 11ms/step - loss: 0.5302 - accuracy: 0.8144 - val_loss: 0.4701 - val_accuracy: 0.8306\n",
            "Epoch 2/10\n",
            "938/938 [==============================] - 12s 13ms/step - loss: 0.4001 - accuracy: 0.8556 - val_loss: 0.4082 - val_accuracy: 0.8540\n",
            "Epoch 3/10\n",
            "938/938 [==============================] - 9s 10ms/step - loss: 0.3658 - accuracy: 0.8675 - val_loss: 0.3888 - val_accuracy: 0.8596\n",
            "Epoch 4/10\n",
            "938/938 [==============================] - 8s 8ms/step - loss: 0.3380 - accuracy: 0.8766 - val_loss: 0.3628 - val_accuracy: 0.8715\n",
            "Epoch 5/10\n",
            "938/938 [==============================] - 9s 9ms/step - loss: 0.3157 - accuracy: 0.8838 - val_loss: 0.3629 - val_accuracy: 0.8693\n",
            "Epoch 6/10\n",
            "938/938 [==============================] - 9s 10ms/step - loss: 0.2970 - accuracy: 0.8904 - val_loss: 0.3467 - val_accuracy: 0.8773\n",
            "Epoch 7/10\n",
            "938/938 [==============================] - 8s 8ms/step - loss: 0.2842 - accuracy: 0.8942 - val_loss: 0.3555 - val_accuracy: 0.8721\n",
            "Epoch 8/10\n",
            "938/938 [==============================] - 9s 9ms/step - loss: 0.2685 - accuracy: 0.9008 - val_loss: 0.3303 - val_accuracy: 0.8809\n",
            "Epoch 9/10\n",
            "938/938 [==============================] - 9s 9ms/step - loss: 0.2566 - accuracy: 0.9040 - val_loss: 0.3294 - val_accuracy: 0.8804\n",
            "Epoch 10/10\n",
            "938/938 [==============================] - 8s 8ms/step - loss: 0.2466 - accuracy: 0.9082 - val_loss: 0.3270 - val_accuracy: 0.8869\n"
          ]
        }
      ]
    },
    {
      "cell_type": "code",
      "metadata": {
        "id": "YXBlbbfuUaPa",
        "colab": {
          "base_uri": "https://localhost:8080/"
        },
        "outputId": "8b108c5d-e5d1-435e-9444-ad28de674226"
      },
      "source": [
        "### Tu código para 1024 neuronas aquí ###\n",
        "\n",
        "model_1024 = keras.models.Sequential()\n",
        "model_1024.add(keras.layers.Flatten(input_shape=[28,28]))\n",
        "model_1024.add(keras.layers.Dense(1024, activation=\"sigmoid\"))\n",
        "model_1024.add(keras.layers.Dense(10, activation=\"softmax\"))\n",
        "\n",
        "model_1024.compile(optimizer='adam',\n",
        "              loss='sparse_categorical_crossentropy',\n",
        "              metrics=['accuracy'])\n",
        "\n",
        "history_1024 = model_1024.fit(\n",
        "      training_images,\n",
        "      training_labels,\n",
        "      epochs=10,\n",
        "      batch_size=64,\n",
        "      validation_data=(test_images, test_labels)\n",
        "    )"
      ],
      "execution_count": 21,
      "outputs": [
        {
          "output_type": "stream",
          "name": "stdout",
          "text": [
            "Epoch 1/10\n",
            "938/938 [==============================] - 15s 15ms/step - loss: 0.5225 - accuracy: 0.8138 - val_loss: 0.4641 - val_accuracy: 0.8291\n",
            "Epoch 2/10\n",
            "938/938 [==============================] - 14s 15ms/step - loss: 0.3999 - accuracy: 0.8557 - val_loss: 0.4000 - val_accuracy: 0.8594\n",
            "Epoch 3/10\n",
            "938/938 [==============================] - 14s 15ms/step - loss: 0.3614 - accuracy: 0.8683 - val_loss: 0.3865 - val_accuracy: 0.8610\n",
            "Epoch 4/10\n",
            "938/938 [==============================] - 14s 15ms/step - loss: 0.3355 - accuracy: 0.8772 - val_loss: 0.3966 - val_accuracy: 0.8532\n",
            "Epoch 5/10\n",
            "938/938 [==============================] - 14s 15ms/step - loss: 0.3128 - accuracy: 0.8854 - val_loss: 0.3554 - val_accuracy: 0.8713\n",
            "Epoch 6/10\n",
            "938/938 [==============================] - 14s 15ms/step - loss: 0.2926 - accuracy: 0.8923 - val_loss: 0.3471 - val_accuracy: 0.8757\n",
            "Epoch 7/10\n",
            "938/938 [==============================] - 14s 15ms/step - loss: 0.2774 - accuracy: 0.8965 - val_loss: 0.3467 - val_accuracy: 0.8747\n",
            "Epoch 8/10\n",
            "938/938 [==============================] - 14s 15ms/step - loss: 0.2639 - accuracy: 0.9018 - val_loss: 0.3369 - val_accuracy: 0.8816\n",
            "Epoch 9/10\n",
            "938/938 [==============================] - 14s 15ms/step - loss: 0.2496 - accuracy: 0.9063 - val_loss: 0.3378 - val_accuracy: 0.8818\n",
            "Epoch 10/10\n",
            "938/938 [==============================] - 14s 15ms/step - loss: 0.2390 - accuracy: 0.9103 - val_loss: 0.3406 - val_accuracy: 0.8774\n"
          ]
        }
      ]
    },
    {
      "cell_type": "markdown",
      "metadata": {
        "id": "wG0h2HL-Uj93"
      },
      "source": [
        "**pregunta 4.1 (0.5 puntos)**: ¿Cual es el impacto que tiene la red neuronal?\n",
        "\n",
        "Tu respuesta a la pregunta 4.1 aquí:\n",
        "\n",
        "\n",
        "\n",
        "*   Dado el aumento en la cantidad de neuronas en la capa oculta, el tiempo de procesamiento aumento, esto es dado al aumento en la cantidad de operaciones a realizar.\n",
        "\n",
        "*   Se identifica que al tener 512 neuronas se alcanza un accurracy con el conjunto de test de 0.8817 mientras que con 1024 neuronas se llega a un 0.8790 lo cual puede ser explicado por el overfitting, se esta perdiendo generalidad del predictor al sobre entrenar.\n",
        "\n",
        "* Ambos modelos tienen un buen acurracy, sin embargo, dada la poca diferencia, lo mejor seria el modelo de 512 neuronas dado al menor esfuerzo en cuanto procesamiento y tiempo"
      ]
    },
    {
      "cell_type": "markdown",
      "metadata": {
        "id": "b-NpUI9EVkVz"
      },
      "source": [
        "Si ahora entrenais el modelo de esta forma (con 512 y 1024 neuronas en la capa oculta) y volveis a ejecutar el predictor guardado en la variable **classifications**, escribir el código del clasificador del ejercicio 1 de nuevo e imprimid el primer objeto guardado en la variable classifications.\n",
        "\n",
        "**pregunta 4.2 (0.25 puntos)**:\n",
        "\n",
        "* ¿En que clase esta clasificado ahora la primera prenda de vestir de la variable classifications?\n",
        "\n",
        "**pregunta 4.3 (0.25 puntos)**:\n",
        "\n",
        "* ¿Porque crees que ha ocurrido esto?"
      ]
    },
    {
      "cell_type": "code",
      "metadata": {
        "id": "RdJHl3V-G4iS",
        "colab": {
          "base_uri": "https://localhost:8080/"
        },
        "outputId": "bf920f1b-f133-4e3d-e163-14c7679db340"
      },
      "source": [
        "### Tu código del clasificador de la pregunta  aquí ###\n",
        "\n",
        "classifications_512 = model_512.predict(test_images)\n",
        "np.set_printoptions(suppress=True)\n",
        "print(classifications_512[0])"
      ],
      "execution_count": 22,
      "outputs": [
        {
          "output_type": "stream",
          "name": "stdout",
          "text": [
            "313/313 [==============================] - 1s 3ms/step\n",
            "[0.0000003  0.00000002 0.00000032 0.00000013 0.00000216 0.00638571 0.00000588 0.01115674 0.00000607 0.9824426 ]\n"
          ]
        }
      ]
    },
    {
      "cell_type": "code",
      "source": [
        "classifications_1024 = model_1024.predict(test_images)\n",
        "np.set_printoptions(suppress=True)\n",
        "print(classifications_1024[0])"
      ],
      "metadata": {
        "colab": {
          "base_uri": "https://localhost:8080/"
        },
        "id": "3IyuNZp41r0B",
        "outputId": "af916e6a-3fdc-4ad6-ef97-3786318fea52"
      },
      "execution_count": 23,
      "outputs": [
        {
          "output_type": "stream",
          "name": "stdout",
          "text": [
            "313/313 [==============================] - 1s 4ms/step\n",
            "[0.00000278 0.00000003 0.0000015  0.0000003  0.00000126 0.00927269 0.00002289 0.02144261 0.0000067  0.9692492 ]\n"
          ]
        }
      ]
    },
    {
      "cell_type": "markdown",
      "metadata": {
        "id": "P3NfwdOGZcAa"
      },
      "source": [
        "Tu respuesta a la pregunta 4.2 aquí:\n",
        "\n",
        "Para el modelo con 512 neuronas se encuentra clasificado en la clase 10 con un 98.2 % de probabilidad.\n",
        "\n",
        "Para el modelo con 1024 neuronas se encuentra clasificado en la clase 10 con un 96.2 % de probabilidad."
      ]
    },
    {
      "cell_type": "markdown",
      "metadata": {
        "id": "nFmfpxE1ZcJx"
      },
      "source": [
        "Tu respuesta a la pregunta 5.2 aquí:\n",
        "\n",
        "Dado a que generalmente agregar una mayor cantidad de neuronas, aumenta la capacidad de la red para aprender, el modelo mejoro su precision, en efecto, para ambos casos, clasifico en la clase 10, sin embargo, recordemos que despues de cierto punto puede perder su capacidad de generalizar frente a nuevos datos, y perder su rendimiento teninedo neuronas en exceso."
      ]
    },
    {
      "cell_type": "markdown",
      "metadata": {
        "id": "59eM76O1YekZ"
      },
      "source": [
        "# **5: Capa Flatten**\n",
        "\n",
        "En este ejercicio vamos a ver que ocurre cuando quitamos la capa flatten, para ello, escribe la red neuronal de la pregunta 1 y no pongas la capa Flatten.\n",
        "\n",
        "**pregunta 5 (0.5 puntos):** ¿puedes explicar porque da el error que da?\n",
        "\n"
      ]
    },
    {
      "cell_type": "code",
      "metadata": {
        "id": "ecfEVKEuG4iU",
        "colab": {
          "base_uri": "https://localhost:8080/"
        },
        "outputId": "69b20ae3-6210-4eac-fcc9-2ab5b2326771"
      },
      "source": [
        "### Tu código de la red neuronal sin capa flatten de la pregunta 6 aquí ###\n",
        "\n",
        "model= keras.models.Sequential()\n",
        "#model.add(keras.layers.Flatten(input_shape=[28,28]))\n",
        "model.add(keras.layers.Dense(128, activation=\"sigmoid\"))\n",
        "model.add(keras.layers.Dense(10, activation=\"softmax\"))\n",
        "\n",
        "model.compile(optimizer='adam',\n",
        "              loss='sparse_categorical_crossentropy',\n",
        "              metrics=['accuracy'])\n",
        "\n",
        "try:\n",
        "  history = model.fit(\n",
        "        training_images,\n",
        "        training_labels,\n",
        "        epochs=10,\n",
        "        batch_size=64,\n",
        "        validation_data=(test_images, test_labels)\n",
        "      )\n",
        "except Exception as e:\n",
        "    print(f\"An error occurred: {e}\")"
      ],
      "execution_count": 24,
      "outputs": [
        {
          "output_type": "stream",
          "name": "stdout",
          "text": [
            "Epoch 1/10\n",
            "An error occurred: Graph execution error:\n",
            "\n",
            "Detected at node sparse_categorical_crossentropy/SparseSoftmaxCrossEntropyWithLogits/SparseSoftmaxCrossEntropyWithLogits defined at (most recent call last):\n",
            "  File \"/usr/lib/python3.10/runpy.py\", line 196, in _run_module_as_main\n",
            "\n",
            "  File \"/usr/lib/python3.10/runpy.py\", line 86, in _run_code\n",
            "\n",
            "  File \"/usr/local/lib/python3.10/dist-packages/colab_kernel_launcher.py\", line 37, in <module>\n",
            "\n",
            "  File \"/usr/local/lib/python3.10/dist-packages/traitlets/config/application.py\", line 992, in launch_instance\n",
            "\n",
            "  File \"/usr/local/lib/python3.10/dist-packages/ipykernel/kernelapp.py\", line 619, in start\n",
            "\n",
            "  File \"/usr/local/lib/python3.10/dist-packages/tornado/platform/asyncio.py\", line 195, in start\n",
            "\n",
            "  File \"/usr/lib/python3.10/asyncio/base_events.py\", line 603, in run_forever\n",
            "\n",
            "  File \"/usr/lib/python3.10/asyncio/base_events.py\", line 1909, in _run_once\n",
            "\n",
            "  File \"/usr/lib/python3.10/asyncio/events.py\", line 80, in _run\n",
            "\n",
            "  File \"/usr/local/lib/python3.10/dist-packages/tornado/ioloop.py\", line 685, in <lambda>\n",
            "\n",
            "  File \"/usr/local/lib/python3.10/dist-packages/tornado/ioloop.py\", line 738, in _run_callback\n",
            "\n",
            "  File \"/usr/local/lib/python3.10/dist-packages/tornado/gen.py\", line 825, in inner\n",
            "\n",
            "  File \"/usr/local/lib/python3.10/dist-packages/tornado/gen.py\", line 786, in run\n",
            "\n",
            "  File \"/usr/local/lib/python3.10/dist-packages/ipykernel/kernelbase.py\", line 361, in process_one\n",
            "\n",
            "  File \"/usr/local/lib/python3.10/dist-packages/tornado/gen.py\", line 234, in wrapper\n",
            "\n",
            "  File \"/usr/local/lib/python3.10/dist-packages/ipykernel/kernelbase.py\", line 261, in dispatch_shell\n",
            "\n",
            "  File \"/usr/local/lib/python3.10/dist-packages/tornado/gen.py\", line 234, in wrapper\n",
            "\n",
            "  File \"/usr/local/lib/python3.10/dist-packages/ipykernel/kernelbase.py\", line 539, in execute_request\n",
            "\n",
            "  File \"/usr/local/lib/python3.10/dist-packages/tornado/gen.py\", line 234, in wrapper\n",
            "\n",
            "  File \"/usr/local/lib/python3.10/dist-packages/ipykernel/ipkernel.py\", line 302, in do_execute\n",
            "\n",
            "  File \"/usr/local/lib/python3.10/dist-packages/ipykernel/zmqshell.py\", line 539, in run_cell\n",
            "\n",
            "  File \"/usr/local/lib/python3.10/dist-packages/IPython/core/interactiveshell.py\", line 2975, in run_cell\n",
            "\n",
            "  File \"/usr/local/lib/python3.10/dist-packages/IPython/core/interactiveshell.py\", line 3030, in _run_cell\n",
            "\n",
            "  File \"/usr/local/lib/python3.10/dist-packages/IPython/core/async_helpers.py\", line 78, in _pseudo_sync_runner\n",
            "\n",
            "  File \"/usr/local/lib/python3.10/dist-packages/IPython/core/interactiveshell.py\", line 3257, in run_cell_async\n",
            "\n",
            "  File \"/usr/local/lib/python3.10/dist-packages/IPython/core/interactiveshell.py\", line 3473, in run_ast_nodes\n",
            "\n",
            "  File \"/usr/local/lib/python3.10/dist-packages/IPython/core/interactiveshell.py\", line 3553, in run_code\n",
            "\n",
            "  File \"<ipython-input-24-9535d11fa906>\", line 13, in <cell line: 12>\n",
            "\n",
            "  File \"/usr/local/lib/python3.10/dist-packages/keras/src/utils/traceback_utils.py\", line 65, in error_handler\n",
            "\n",
            "  File \"/usr/local/lib/python3.10/dist-packages/keras/src/engine/training.py\", line 1783, in fit\n",
            "\n",
            "  File \"/usr/local/lib/python3.10/dist-packages/keras/src/engine/training.py\", line 1377, in train_function\n",
            "\n",
            "  File \"/usr/local/lib/python3.10/dist-packages/keras/src/engine/training.py\", line 1360, in step_function\n",
            "\n",
            "  File \"/usr/local/lib/python3.10/dist-packages/keras/src/engine/training.py\", line 1349, in run_step\n",
            "\n",
            "  File \"/usr/local/lib/python3.10/dist-packages/keras/src/engine/training.py\", line 1127, in train_step\n",
            "\n",
            "  File \"/usr/local/lib/python3.10/dist-packages/keras/src/engine/training.py\", line 1185, in compute_loss\n",
            "\n",
            "  File \"/usr/local/lib/python3.10/dist-packages/keras/src/engine/compile_utils.py\", line 277, in __call__\n",
            "\n",
            "  File \"/usr/local/lib/python3.10/dist-packages/keras/src/losses.py\", line 143, in __call__\n",
            "\n",
            "  File \"/usr/local/lib/python3.10/dist-packages/keras/src/losses.py\", line 270, in call\n",
            "\n",
            "  File \"/usr/local/lib/python3.10/dist-packages/keras/src/losses.py\", line 2454, in sparse_categorical_crossentropy\n",
            "\n",
            "  File \"/usr/local/lib/python3.10/dist-packages/keras/src/backend.py\", line 5777, in sparse_categorical_crossentropy\n",
            "\n",
            "logits and labels must have the same first dimension, got logits shape [1792,10] and labels shape [64]\n",
            "\t [[{{node sparse_categorical_crossentropy/SparseSoftmaxCrossEntropyWithLogits/SparseSoftmaxCrossEntropyWithLogits}}]] [Op:__inference_train_function_245555]\n"
          ]
        }
      ]
    },
    {
      "cell_type": "markdown",
      "metadata": {
        "id": "-aNmrkkOZN6D"
      },
      "source": [
        "Tu respuesta a la pregunta 5 aquí:\n",
        "\n",
        "Dado a que estamos borrando la capa Flatten estamos eliminando la transformacion inicial que convierte los valores de las imagens a un vector, el cual es esperado por las capas ocultas, es por esto que tenemos el error, no puede tener mas dimensiones de las esperadas.  "
      ]
    },
    {
      "cell_type": "markdown",
      "metadata": {
        "id": "f37cIr81ZYJj"
      },
      "source": [
        "# **6: Número de neuronas de la capa de salida**\n",
        "Considerad la capa final, la de salida de la red neuronal de la pregunta 1.\n",
        "\n",
        "**pregunta 6.1 (0.25 puntos)**: ¿Por qué son 10 las neuronas de la última capa?\n",
        "\n",
        "**pregunta 6.2 (0.25 puntos)**: ¿Qué pasaría si tuvieras una cantidad diferente a 10?\n",
        "\n",
        "Por ejemplo, intenta entrenar la red con 5, para ello utiliza la red neuronal de la pregunta 1 y cambia a 5 el número de neuronas en la última capa."
      ]
    },
    {
      "cell_type": "code",
      "metadata": {
        "id": "FhbZkppYZOCS",
        "colab": {
          "base_uri": "https://localhost:8080/",
          "height": 1000
        },
        "outputId": "d7312910-e8e8-46ea-dffb-2418d6b07b82"
      },
      "source": [
        "### Tu código de la red neuronal con 5 neuronas en la capa de salida de la pregunta 6 aquí ###\n",
        "\n",
        "model= keras.models.Sequential()\n",
        "model.add(keras.layers.Flatten(input_shape=[28,28]))\n",
        "model.add(keras.layers.Dense(128, activation=\"sigmoid\"))\n",
        "model.add(keras.layers.Dense(5, activation=\"softmax\"))\n",
        "\n",
        "model.compile(optimizer='adam',\n",
        "            loss='sparse_categorical_crossentropy',\n",
        "            metrics=['accuracy'])\n",
        "\n",
        "history = model.fit(\n",
        "    training_images,\n",
        "    training_labels,\n",
        "    epochs=10,\n",
        "    batch_size=64,\n",
        "    validation_data=(test_images, test_labels)\n",
        "  )"
      ],
      "execution_count": 25,
      "outputs": [
        {
          "output_type": "stream",
          "name": "stdout",
          "text": [
            "Epoch 1/10\n"
          ]
        },
        {
          "output_type": "error",
          "ename": "InvalidArgumentError",
          "evalue": "ignored",
          "traceback": [
            "\u001b[0;31m---------------------------------------------------------------------------\u001b[0m",
            "\u001b[0;31mInvalidArgumentError\u001b[0m                      Traceback (most recent call last)",
            "\u001b[0;32m<ipython-input-25-6ec95cca61dd>\u001b[0m in \u001b[0;36m<cell line: 12>\u001b[0;34m()\u001b[0m\n\u001b[1;32m     10\u001b[0m             metrics=['accuracy'])\n\u001b[1;32m     11\u001b[0m \u001b[0;34m\u001b[0m\u001b[0m\n\u001b[0;32m---> 12\u001b[0;31m history = model.fit(\n\u001b[0m\u001b[1;32m     13\u001b[0m     \u001b[0mtraining_images\u001b[0m\u001b[0;34m,\u001b[0m\u001b[0;34m\u001b[0m\u001b[0;34m\u001b[0m\u001b[0m\n\u001b[1;32m     14\u001b[0m     \u001b[0mtraining_labels\u001b[0m\u001b[0;34m,\u001b[0m\u001b[0;34m\u001b[0m\u001b[0;34m\u001b[0m\u001b[0m\n",
            "\u001b[0;32m/usr/local/lib/python3.10/dist-packages/keras/src/utils/traceback_utils.py\u001b[0m in \u001b[0;36merror_handler\u001b[0;34m(*args, **kwargs)\u001b[0m\n\u001b[1;32m     68\u001b[0m             \u001b[0;31m# To get the full stack trace, call:\u001b[0m\u001b[0;34m\u001b[0m\u001b[0;34m\u001b[0m\u001b[0m\n\u001b[1;32m     69\u001b[0m             \u001b[0;31m# `tf.debugging.disable_traceback_filtering()`\u001b[0m\u001b[0;34m\u001b[0m\u001b[0;34m\u001b[0m\u001b[0m\n\u001b[0;32m---> 70\u001b[0;31m             \u001b[0;32mraise\u001b[0m \u001b[0me\u001b[0m\u001b[0;34m.\u001b[0m\u001b[0mwith_traceback\u001b[0m\u001b[0;34m(\u001b[0m\u001b[0mfiltered_tb\u001b[0m\u001b[0;34m)\u001b[0m \u001b[0;32mfrom\u001b[0m \u001b[0;32mNone\u001b[0m\u001b[0;34m\u001b[0m\u001b[0;34m\u001b[0m\u001b[0m\n\u001b[0m\u001b[1;32m     71\u001b[0m         \u001b[0;32mfinally\u001b[0m\u001b[0;34m:\u001b[0m\u001b[0;34m\u001b[0m\u001b[0;34m\u001b[0m\u001b[0m\n\u001b[1;32m     72\u001b[0m             \u001b[0;32mdel\u001b[0m \u001b[0mfiltered_tb\u001b[0m\u001b[0;34m\u001b[0m\u001b[0;34m\u001b[0m\u001b[0m\n",
            "\u001b[0;32m/usr/local/lib/python3.10/dist-packages/tensorflow/python/eager/execute.py\u001b[0m in \u001b[0;36mquick_execute\u001b[0;34m(op_name, num_outputs, inputs, attrs, ctx, name)\u001b[0m\n\u001b[1;32m     58\u001b[0m         \u001b[0;32mfor\u001b[0m \u001b[0mt\u001b[0m \u001b[0;32min\u001b[0m \u001b[0minputs\u001b[0m\u001b[0;34m\u001b[0m\u001b[0;34m\u001b[0m\u001b[0m\n\u001b[1;32m     59\u001b[0m     ]\n\u001b[0;32m---> 60\u001b[0;31m     tensors = pywrap_tfe.TFE_Py_Execute(ctx._handle, device_name, op_name,\n\u001b[0m\u001b[1;32m     61\u001b[0m                                         inputs, attrs, num_outputs)\n\u001b[1;32m     62\u001b[0m   \u001b[0;32mexcept\u001b[0m \u001b[0mcore\u001b[0m\u001b[0;34m.\u001b[0m\u001b[0m_NotOkStatusException\u001b[0m \u001b[0;32mas\u001b[0m \u001b[0me\u001b[0m\u001b[0;34m:\u001b[0m\u001b[0;34m\u001b[0m\u001b[0;34m\u001b[0m\u001b[0m\n",
            "\u001b[0;31mInvalidArgumentError\u001b[0m: Graph execution error:\n\nDetected at node sparse_categorical_crossentropy/SparseSoftmaxCrossEntropyWithLogits/SparseSoftmaxCrossEntropyWithLogits defined at (most recent call last):\n  File \"/usr/lib/python3.10/runpy.py\", line 196, in _run_module_as_main\n\n  File \"/usr/lib/python3.10/runpy.py\", line 86, in _run_code\n\n  File \"/usr/local/lib/python3.10/dist-packages/colab_kernel_launcher.py\", line 37, in <module>\n\n  File \"/usr/local/lib/python3.10/dist-packages/traitlets/config/application.py\", line 992, in launch_instance\n\n  File \"/usr/local/lib/python3.10/dist-packages/ipykernel/kernelapp.py\", line 619, in start\n\n  File \"/usr/local/lib/python3.10/dist-packages/tornado/platform/asyncio.py\", line 195, in start\n\n  File \"/usr/lib/python3.10/asyncio/base_events.py\", line 603, in run_forever\n\n  File \"/usr/lib/python3.10/asyncio/base_events.py\", line 1909, in _run_once\n\n  File \"/usr/lib/python3.10/asyncio/events.py\", line 80, in _run\n\n  File \"/usr/local/lib/python3.10/dist-packages/tornado/ioloop.py\", line 685, in <lambda>\n\n  File \"/usr/local/lib/python3.10/dist-packages/tornado/ioloop.py\", line 738, in _run_callback\n\n  File \"/usr/local/lib/python3.10/dist-packages/tornado/gen.py\", line 825, in inner\n\n  File \"/usr/local/lib/python3.10/dist-packages/tornado/gen.py\", line 786, in run\n\n  File \"/usr/local/lib/python3.10/dist-packages/ipykernel/kernelbase.py\", line 361, in process_one\n\n  File \"/usr/local/lib/python3.10/dist-packages/tornado/gen.py\", line 234, in wrapper\n\n  File \"/usr/local/lib/python3.10/dist-packages/ipykernel/kernelbase.py\", line 261, in dispatch_shell\n\n  File \"/usr/local/lib/python3.10/dist-packages/tornado/gen.py\", line 234, in wrapper\n\n  File \"/usr/local/lib/python3.10/dist-packages/ipykernel/kernelbase.py\", line 539, in execute_request\n\n  File \"/usr/local/lib/python3.10/dist-packages/tornado/gen.py\", line 234, in wrapper\n\n  File \"/usr/local/lib/python3.10/dist-packages/ipykernel/ipkernel.py\", line 302, in do_execute\n\n  File \"/usr/local/lib/python3.10/dist-packages/ipykernel/zmqshell.py\", line 539, in run_cell\n\n  File \"/usr/local/lib/python3.10/dist-packages/IPython/core/interactiveshell.py\", line 2975, in run_cell\n\n  File \"/usr/local/lib/python3.10/dist-packages/IPython/core/interactiveshell.py\", line 3030, in _run_cell\n\n  File \"/usr/local/lib/python3.10/dist-packages/IPython/core/async_helpers.py\", line 78, in _pseudo_sync_runner\n\n  File \"/usr/local/lib/python3.10/dist-packages/IPython/core/interactiveshell.py\", line 3257, in run_cell_async\n\n  File \"/usr/local/lib/python3.10/dist-packages/IPython/core/interactiveshell.py\", line 3473, in run_ast_nodes\n\n  File \"/usr/local/lib/python3.10/dist-packages/IPython/core/interactiveshell.py\", line 3553, in run_code\n\n  File \"<ipython-input-25-6ec95cca61dd>\", line 12, in <cell line: 12>\n\n  File \"/usr/local/lib/python3.10/dist-packages/keras/src/utils/traceback_utils.py\", line 65, in error_handler\n\n  File \"/usr/local/lib/python3.10/dist-packages/keras/src/engine/training.py\", line 1783, in fit\n\n  File \"/usr/local/lib/python3.10/dist-packages/keras/src/engine/training.py\", line 1377, in train_function\n\n  File \"/usr/local/lib/python3.10/dist-packages/keras/src/engine/training.py\", line 1360, in step_function\n\n  File \"/usr/local/lib/python3.10/dist-packages/keras/src/engine/training.py\", line 1349, in run_step\n\n  File \"/usr/local/lib/python3.10/dist-packages/keras/src/engine/training.py\", line 1127, in train_step\n\n  File \"/usr/local/lib/python3.10/dist-packages/keras/src/engine/training.py\", line 1185, in compute_loss\n\n  File \"/usr/local/lib/python3.10/dist-packages/keras/src/engine/compile_utils.py\", line 277, in __call__\n\n  File \"/usr/local/lib/python3.10/dist-packages/keras/src/losses.py\", line 143, in __call__\n\n  File \"/usr/local/lib/python3.10/dist-packages/keras/src/losses.py\", line 270, in call\n\n  File \"/usr/local/lib/python3.10/dist-packages/keras/src/losses.py\", line 2454, in sparse_categorical_crossentropy\n\n  File \"/usr/local/lib/python3.10/dist-packages/keras/src/backend.py\", line 5777, in sparse_categorical_crossentropy\n\nReceived a label value of 9 which is outside the valid range of [0, 5).  Label values: 3 9 4 4 8 4 9 5 5 0 5 4 1 9 6 7 9 2 9 9 3 7 2 7 0 8 7 0 0 8 2 5 3 2 6 9 7 8 2 5 3 0 1 0 1 9 6 2 4 8 0 1 8 3 3 1 5 5 8 3 6 3 7 2\n\t [[{{node sparse_categorical_crossentropy/SparseSoftmaxCrossEntropyWithLogits/SparseSoftmaxCrossEntropyWithLogits}}]] [Op:__inference_train_function_246332]"
          ]
        }
      ]
    },
    {
      "cell_type": "markdown",
      "metadata": {
        "id": "SLsQcq-6aUoD"
      },
      "source": [
        "Tu respuestas a la pregunta 6.1 aquí:\n",
        "\n",
        "La cantidad de neuronas de la capa de salida esta determinada por la cantidad de clases posibles a asignar dado a que cada neuronada brindara una probabilidad de pertenecer o no a una unica clase. Dado a que son 10 clases posibles, vamos a calcular 10 probabilidades."
      ]
    },
    {
      "cell_type": "markdown",
      "metadata": {
        "id": "J1f_7ZFeaUu6"
      },
      "source": [
        "Tu respuestas a la pregunta 6.2 aquí:\n",
        "La red genera el siguiente error:\n",
        "Received a label value of 9 which is outside the valid range of [0, 5).\n",
        "\n",
        "Esto es porque espera una cantidad de 5 labels posibles, sin embargo, los datos de entrenamiento tienen mas valore no esperados, mas especificamente 10.\n",
        "\n"
      ]
    },
    {
      "cell_type": "markdown",
      "metadata": {
        "id": "HNIBCkshaf2y"
      },
      "source": [
        "# 7: Aumento de epoch y su efecto en la red neuronal\n",
        "En este ejercicio vamos a ver el impacto de aumentar los epoch en el entrenamiento. Usando la red neuronal de la pregunta 1:\n",
        "\n",
        "**pregunta 7.1 (0.15 puntos)**\n",
        "* Intentad 15 epoch para su entrenamiento, probablemente obtendras un modelo con una pérdida mucho mejor que el que tiene 5.\n",
        "\n",
        "**pregunta 7.2 (0.15 puntos)**\n",
        "* Intenta ahora con 30 epoch para su entrenamiento, podrás ver que el valor de la pérdida deja de disminuir, y a veces aumenta.\n",
        "\n",
        "**pregunta 7.3 (0.30 puntos)**\n",
        "* ¿Porque que piensas que ocurre esto? Explica tu respuesta y da el nombre de este efecto si lo conoces."
      ]
    },
    {
      "cell_type": "code",
      "metadata": {
        "id": "Cb5vk_imG4iZ",
        "colab": {
          "base_uri": "https://localhost:8080/"
        },
        "outputId": "425936c1-d5ed-4ed0-8aea-17713428a760"
      },
      "source": [
        "### Tu código para 15 epoch aquí ###\n",
        "\n",
        "model= keras.models.Sequential()\n",
        "model.add(keras.layers.Flatten(input_shape=[28,28]))\n",
        "model.add(keras.layers.Dense(128, activation=\"sigmoid\"))\n",
        "model.add(keras.layers.Dense(10, activation=\"softmax\"))\n",
        "\n",
        "model.compile(optimizer='adam',\n",
        "            loss='sparse_categorical_crossentropy',\n",
        "            metrics=['accuracy'])\n",
        "\n",
        "history = model.fit(\n",
        "    training_images,\n",
        "    training_labels,\n",
        "    epochs=15,\n",
        "    batch_size=64,\n",
        "    validation_data=(test_images, test_labels)\n",
        "  )"
      ],
      "execution_count": null,
      "outputs": [
        {
          "output_type": "stream",
          "name": "stdout",
          "text": [
            "Epoch 1/15\n",
            "938/938 [==============================] - 19s 3ms/step - loss: 0.6017 - accuracy: 0.8019 - val_loss: 0.4702 - val_accuracy: 0.8345\n",
            "Epoch 2/15\n",
            "938/938 [==============================] - 2s 2ms/step - loss: 0.4113 - accuracy: 0.8540 - val_loss: 0.4142 - val_accuracy: 0.8512\n",
            "Epoch 3/15\n",
            "938/938 [==============================] - 2s 3ms/step - loss: 0.3738 - accuracy: 0.8658 - val_loss: 0.4031 - val_accuracy: 0.8533\n",
            "Epoch 4/15\n",
            "938/938 [==============================] - 3s 3ms/step - loss: 0.3497 - accuracy: 0.8747 - val_loss: 0.3831 - val_accuracy: 0.8648\n",
            "Epoch 5/15\n",
            "938/938 [==============================] - 2s 2ms/step - loss: 0.3317 - accuracy: 0.8807 - val_loss: 0.3624 - val_accuracy: 0.8702\n",
            "Epoch 6/15\n",
            "938/938 [==============================] - 2s 2ms/step - loss: 0.3162 - accuracy: 0.8860 - val_loss: 0.3616 - val_accuracy: 0.8694\n",
            "Epoch 7/15\n",
            "938/938 [==============================] - 2s 2ms/step - loss: 0.3031 - accuracy: 0.8891 - val_loss: 0.3467 - val_accuracy: 0.8746\n",
            "Epoch 8/15\n",
            "938/938 [==============================] - 2s 2ms/step - loss: 0.2926 - accuracy: 0.8925 - val_loss: 0.3532 - val_accuracy: 0.8706\n",
            "Epoch 9/15\n",
            "938/938 [==============================] - 3s 3ms/step - loss: 0.2822 - accuracy: 0.8969 - val_loss: 0.3421 - val_accuracy: 0.8757\n",
            "Epoch 10/15\n",
            "938/938 [==============================] - 2s 2ms/step - loss: 0.2726 - accuracy: 0.9003 - val_loss: 0.3326 - val_accuracy: 0.8805\n",
            "Epoch 11/15\n",
            "938/938 [==============================] - 3s 3ms/step - loss: 0.2649 - accuracy: 0.9024 - val_loss: 0.3374 - val_accuracy: 0.8773\n",
            "Epoch 12/15\n",
            "938/938 [==============================] - 3s 3ms/step - loss: 0.2569 - accuracy: 0.9051 - val_loss: 0.3271 - val_accuracy: 0.8808\n",
            "Epoch 13/15\n",
            "938/938 [==============================] - 3s 3ms/step - loss: 0.2502 - accuracy: 0.9085 - val_loss: 0.3253 - val_accuracy: 0.8822\n",
            "Epoch 14/15\n",
            "938/938 [==============================] - 2s 2ms/step - loss: 0.2428 - accuracy: 0.9109 - val_loss: 0.3311 - val_accuracy: 0.8801\n",
            "Epoch 15/15\n",
            "938/938 [==============================] - 2s 2ms/step - loss: 0.2367 - accuracy: 0.9130 - val_loss: 0.3198 - val_accuracy: 0.8839\n"
          ]
        }
      ]
    },
    {
      "cell_type": "code",
      "metadata": {
        "id": "I9jQ26Gda5cv",
        "colab": {
          "base_uri": "https://localhost:8080/"
        },
        "outputId": "5f07e21e-e960-466e-f675-b0bb99310e32"
      },
      "source": [
        "### Tu código para 30 epoch aquí ###\n",
        "\n",
        "model= keras.models.Sequential()\n",
        "model.add(keras.layers.Flatten(input_shape=[28,28]))\n",
        "model.add(keras.layers.Dense(128, activation=\"sigmoid\"))\n",
        "model.add(keras.layers.Dense(10, activation=\"softmax\"))\n",
        "\n",
        "model.compile(optimizer='adam',\n",
        "            loss='sparse_categorical_crossentropy',\n",
        "            metrics=['accuracy'])\n",
        "\n",
        "history = model.fit(\n",
        "    training_images,\n",
        "    training_labels,\n",
        "    epochs=30,\n",
        "    batch_size=64,\n",
        "    validation_data=(test_images, test_labels)\n",
        "  )"
      ],
      "execution_count": null,
      "outputs": [
        {
          "output_type": "stream",
          "name": "stdout",
          "text": [
            "Epoch 1/30\n",
            "938/938 [==============================] - 3s 3ms/step - loss: 0.5968 - accuracy: 0.8014 - val_loss: 0.4669 - val_accuracy: 0.8353\n",
            "Epoch 2/30\n",
            "938/938 [==============================] - 2s 3ms/step - loss: 0.4124 - accuracy: 0.8539 - val_loss: 0.4181 - val_accuracy: 0.8503\n",
            "Epoch 3/30\n",
            "938/938 [==============================] - 3s 3ms/step - loss: 0.3732 - accuracy: 0.8664 - val_loss: 0.4004 - val_accuracy: 0.8562\n",
            "Epoch 4/30\n",
            "938/938 [==============================] - 2s 2ms/step - loss: 0.3497 - accuracy: 0.8738 - val_loss: 0.3785 - val_accuracy: 0.8643\n",
            "Epoch 5/30\n",
            "938/938 [==============================] - 2s 2ms/step - loss: 0.3305 - accuracy: 0.8800 - val_loss: 0.3698 - val_accuracy: 0.8663\n",
            "Epoch 6/30\n",
            "938/938 [==============================] - 2s 2ms/step - loss: 0.3154 - accuracy: 0.8854 - val_loss: 0.3716 - val_accuracy: 0.8620\n",
            "Epoch 7/30\n",
            "938/938 [==============================] - 2s 2ms/step - loss: 0.3021 - accuracy: 0.8901 - val_loss: 0.3596 - val_accuracy: 0.8709\n",
            "Epoch 8/30\n",
            "938/938 [==============================] - 3s 3ms/step - loss: 0.2908 - accuracy: 0.8939 - val_loss: 0.3472 - val_accuracy: 0.8751\n",
            "Epoch 9/30\n",
            "938/938 [==============================] - 2s 2ms/step - loss: 0.2812 - accuracy: 0.8979 - val_loss: 0.3445 - val_accuracy: 0.8757\n",
            "Epoch 10/30\n",
            "938/938 [==============================] - 2s 2ms/step - loss: 0.2719 - accuracy: 0.9009 - val_loss: 0.3362 - val_accuracy: 0.8779\n",
            "Epoch 11/30\n",
            "938/938 [==============================] - 2s 2ms/step - loss: 0.2639 - accuracy: 0.9029 - val_loss: 0.3286 - val_accuracy: 0.8810\n",
            "Epoch 12/30\n",
            "938/938 [==============================] - 2s 3ms/step - loss: 0.2556 - accuracy: 0.9055 - val_loss: 0.3273 - val_accuracy: 0.8822\n",
            "Epoch 13/30\n",
            "938/938 [==============================] - 3s 3ms/step - loss: 0.2485 - accuracy: 0.9097 - val_loss: 0.3294 - val_accuracy: 0.8819\n",
            "Epoch 14/30\n",
            "938/938 [==============================] - 2s 2ms/step - loss: 0.2420 - accuracy: 0.9118 - val_loss: 0.3244 - val_accuracy: 0.8855\n",
            "Epoch 15/30\n",
            "938/938 [==============================] - 2s 2ms/step - loss: 0.2345 - accuracy: 0.9142 - val_loss: 0.3271 - val_accuracy: 0.8835\n",
            "Epoch 16/30\n",
            "938/938 [==============================] - 2s 2ms/step - loss: 0.2298 - accuracy: 0.9166 - val_loss: 0.3202 - val_accuracy: 0.8867\n",
            "Epoch 17/30\n",
            "938/938 [==============================] - 2s 2ms/step - loss: 0.2228 - accuracy: 0.9178 - val_loss: 0.3232 - val_accuracy: 0.8862\n",
            "Epoch 18/30\n",
            "938/938 [==============================] - 3s 3ms/step - loss: 0.2171 - accuracy: 0.9211 - val_loss: 0.3191 - val_accuracy: 0.8853\n",
            "Epoch 19/30\n",
            "938/938 [==============================] - 2s 2ms/step - loss: 0.2116 - accuracy: 0.9226 - val_loss: 0.3181 - val_accuracy: 0.8876\n",
            "Epoch 20/30\n",
            "938/938 [==============================] - 2s 2ms/step - loss: 0.2078 - accuracy: 0.9241 - val_loss: 0.3207 - val_accuracy: 0.8849\n",
            "Epoch 21/30\n",
            "938/938 [==============================] - 2s 2ms/step - loss: 0.2014 - accuracy: 0.9270 - val_loss: 0.3211 - val_accuracy: 0.8833\n",
            "Epoch 22/30\n",
            "938/938 [==============================] - 2s 2ms/step - loss: 0.1972 - accuracy: 0.9285 - val_loss: 0.3153 - val_accuracy: 0.8875\n",
            "Epoch 23/30\n",
            "938/938 [==============================] - 3s 3ms/step - loss: 0.1918 - accuracy: 0.9304 - val_loss: 0.3238 - val_accuracy: 0.8850\n",
            "Epoch 24/30\n",
            "938/938 [==============================] - 2s 2ms/step - loss: 0.1898 - accuracy: 0.9303 - val_loss: 0.3239 - val_accuracy: 0.8876\n",
            "Epoch 25/30\n",
            "938/938 [==============================] - 2s 2ms/step - loss: 0.1837 - accuracy: 0.9336 - val_loss: 0.3183 - val_accuracy: 0.8866\n",
            "Epoch 26/30\n",
            "938/938 [==============================] - 2s 2ms/step - loss: 0.1793 - accuracy: 0.9356 - val_loss: 0.3146 - val_accuracy: 0.8903\n",
            "Epoch 27/30\n",
            "938/938 [==============================] - 2s 3ms/step - loss: 0.1758 - accuracy: 0.9364 - val_loss: 0.3134 - val_accuracy: 0.8915\n",
            "Epoch 28/30\n",
            "938/938 [==============================] - 3s 3ms/step - loss: 0.1712 - accuracy: 0.9377 - val_loss: 0.3143 - val_accuracy: 0.8898\n",
            "Epoch 29/30\n",
            "938/938 [==============================] - 2s 2ms/step - loss: 0.1680 - accuracy: 0.9395 - val_loss: 0.3244 - val_accuracy: 0.8885\n",
            "Epoch 30/30\n",
            "938/938 [==============================] - 2s 2ms/step - loss: 0.1643 - accuracy: 0.9412 - val_loss: 0.3179 - val_accuracy: 0.8915\n"
          ]
        }
      ]
    },
    {
      "cell_type": "markdown",
      "metadata": {
        "id": "Fs0fjzH4bmSR"
      },
      "source": [
        "Tu respuesta a la pregunta 7.3 aquí:\n",
        "\n",
        "Si, esto se debe a que despues de cierto punto el modelo alcanza su maximo valor de aprendizaje, y por el contrario, pierde su capacidad de aprendizaje o generalizacion respecto a nuevos datos. El nombre de este efecto es overfitting."
      ]
    },
    {
      "cell_type": "markdown",
      "metadata": {
        "id": "HlIgNG4Yb_N6"
      },
      "source": [
        "# 8: Early stop\n",
        "En el ejercicio anterior, cuando entrenabas con epoch extras, tenías un problema en el que tu pérdida podía cambiar. Puede que te haya llevado un poco de tiempo esperar a que el entrenamiento lo hiciera,  y puede que hayas pensado \"¿no estaría bien si pudiera parar el entrenamiento cuando alcance un valor deseado?\", es decir, una precisión del 85% podría ser suficiente para ti, y si alcanzas eso después de 3 epoch, ¿por qué sentarte a esperar a que termine muchas más épocas? Como cualquier otro programa existen formas de parar la ejecución\n",
        "\n",
        "A partir del código de ejemplo, hacer una nueva función que tenga en cuenta la perdida (loss) y que pueda parar el código para evitar que ocurra el efeto secundario que vimos en el ejercicio 5."
      ]
    },
    {
      "cell_type": "code",
      "metadata": {
        "id": "b5UwceFUG4ic"
      },
      "source": [
        "### Ejemplo de código\n",
        "\n",
        "class myCallback(tf.keras.callbacks.Callback):\n",
        "      def on_epoch_end(self, epoch, logs={}):\n",
        "        if(logs.get('accuracy')> 0.85):\n",
        "              print(\"\\nAlcanzado el 85% de precisión, se cancela el entrenamiento!!\")\n",
        "              self.model.stop_training = True"
      ],
      "execution_count": null,
      "outputs": []
    },
    {
      "cell_type": "markdown",
      "metadata": {
        "id": "0Bjd8wGKccrn"
      },
      "source": [
        "**Ejercicio 8 *(0.75 puntos)***: Completa el siguiente código con una clase callback que una vez alcanzado el 40% de perdida detenga el entrenamiento."
      ]
    },
    {
      "cell_type": "code",
      "metadata": {
        "id": "29LSfdOvc270",
        "colab": {
          "base_uri": "https://localhost:8080/"
        },
        "outputId": "fe77da73-77f9-40d4-e0a7-7aff91db9cef"
      },
      "source": [
        "import tensorflow as tf\n",
        "print(tf.__version__)\n",
        "\n",
        "### Tu código de la función callback para parar el entrenamiento de la red neuronal al 40% de loss aqui: ###\n",
        "class myCallback(tf.keras.callbacks.Callback):\n",
        "      def on_epoch_end(self, epoch, logs={}):\n",
        "        current_loss = logs.get('loss')\n",
        "        target_loss = 0.4\n",
        "        if current_loss <= target_loss:\n",
        "            print(\"\\n\\n=========================\")\n",
        "            print(f\"Target loss alcanzada ({current_loss} <= {target_loss})\")\n",
        "            print(\"Deteniendo el entrenamiento.\")\n",
        "            print(\"=========================\\n\\n\")\n",
        "            self.model.stop_training = True\n",
        "\n",
        "callbacks = myCallback()\n",
        "mnist = tf.keras.datasets.fashion_mnist\n",
        "(training_images, training_labels) ,  (test_images, test_labels) = mnist.load_data()\n",
        "\n",
        "training_images = training_images/255.0\n",
        "test_images = test_images/255.0\n",
        "\n",
        "model = tf.keras.models.Sequential([tf.keras.layers.Flatten(),\n",
        "                                    tf.keras.layers.Dense(512, activation=tf.nn.relu),\n",
        "                                    tf.keras.layers.Dense(10, activation=tf.nn.softmax)])\n",
        "\n",
        "model.compile(optimizer = 'adam',\n",
        "              loss = 'sparse_categorical_crossentropy',\n",
        "              metrics=['accuracy'])\n",
        "\n",
        "model.fit(training_images, training_labels, epochs=50, callbacks=[callbacks])"
      ],
      "execution_count": null,
      "outputs": [
        {
          "output_type": "stream",
          "name": "stdout",
          "text": [
            "2.13.0\n",
            "Epoch 1/50\n",
            "1875/1875 [==============================] - 7s 4ms/step - loss: 0.4785 - accuracy: 0.8282\n",
            "Epoch 2/50\n",
            "1864/1875 [============================>.] - ETA: 0s - loss: 0.3603 - accuracy: 0.8667\n",
            "\n",
            "=========================\n",
            "Target loss alcanzada (0.35994863510131836 <= 0.4)\n",
            "Deteniendo el entrenamiento.\n",
            "=========================\n",
            "\n",
            "\n",
            "1875/1875 [==============================] - 7s 4ms/step - loss: 0.3599 - accuracy: 0.8668\n"
          ]
        },
        {
          "output_type": "execute_result",
          "data": {
            "text/plain": [
              "<keras.src.callbacks.History at 0x7f1fb833d6f0>"
            ]
          },
          "metadata": {},
          "execution_count": 107
        }
      ]
    },
    {
      "cell_type": "markdown",
      "metadata": {
        "id": "M_yZ9B8gTFqR"
      },
      "source": [
        "## 9. Unidades de activación"
      ]
    },
    {
      "cell_type": "markdown",
      "metadata": {
        "id": "MuVNxmXSTFqR"
      },
      "source": [
        "En este ejercicio, vamos a evaluar la importancia de utilizar las unidades de activación adecuadas. Como hemos visto en clase, funciones de activación como sigmoid han dejado de utilizarse en favor de otras unidades como ReLU.\n",
        "\n",
        "**Ejercicio 9 *(0.75 puntos)***: Partiendo de una red sencilla como la desarrollada en el Trabajo 1, escribir un breve análisis comparando la utilización de unidades sigmoid y ReLU (por ejemplo, se pueden comentar aspectos como velocidad de convergencia, métricas obtenidas...). Explicar por qué pueden darse estas diferencias. Opcionalmente, comparar con otras activaciones disponibles en Keras.\n",
        "\n",
        "*Pista: Usando redes más grandes se hace más sencillo apreciar las diferencias. Es mejor utilizar al menos 3 o 4 capas densas.*"
      ]
    },
    {
      "cell_type": "markdown",
      "source": [
        "# Utilizando la funcion de activacion sigmoid"
      ],
      "metadata": {
        "id": "HDMTliLGTlGp"
      }
    },
    {
      "cell_type": "code",
      "source": [
        "import time\n",
        "inicio = time.time()\n",
        "\n",
        "\n",
        "model= keras.models.Sequential()\n",
        "model.add(keras.layers.Flatten(input_shape=[28,28]))\n",
        "model.add(keras.layers.Dense(300, activation=\"sigmoid\"))\n",
        "model.add(keras.layers.Dense(300, activation=\"sigmoid\"))\n",
        "model.add(keras.layers.Dense(300, activation=\"sigmoid\"))\n",
        "model.add(keras.layers.Dense(300, activation=\"sigmoid\"))\n",
        "model.add(keras.layers.Dense(300, activation=\"sigmoid\"))\n",
        "model.add(keras.layers.Dense(10, activation=\"softmax\"))\n",
        "\n",
        "model.compile(optimizer='adam',\n",
        "            loss='sparse_categorical_crossentropy',\n",
        "            metrics=['accuracy'])\n",
        "\n",
        "history = model.fit(\n",
        "    training_images,\n",
        "    training_labels,\n",
        "    epochs=10,\n",
        "    batch_size=64,\n",
        "    validation_data=(test_images, test_labels)\n",
        "  )\n",
        "\n",
        "fin = time.time()\n",
        "tiempo_transcurrido = fin - inicio\n",
        "print(f\"El código tardó {tiempo_transcurrido} segundos en ejecutarse.\")\n",
        "\n",
        "import pandas as pd\n",
        "import matplotlib.pyplot as plt\n",
        "\n",
        "pd.DataFrame(history.history).plot(figsize=(8,5))\n",
        "plt.grid(True)\n",
        "plt.gca().set_ylim(0,1)\n",
        "plt.show()"
      ],
      "metadata": {
        "id": "kolRSw09Naxq",
        "colab": {
          "base_uri": "https://localhost:8080/",
          "height": 826
        },
        "outputId": "a54a2d49-3d13-4a12-d02a-b073042dc5ca"
      },
      "execution_count": null,
      "outputs": [
        {
          "output_type": "stream",
          "name": "stdout",
          "text": [
            "Epoch 1/10\n",
            "938/938 [==============================] - 15s 14ms/step - loss: 0.9217 - accuracy: 0.6262 - val_loss: 0.6443 - val_accuracy: 0.7627\n",
            "Epoch 2/10\n",
            "938/938 [==============================] - 13s 14ms/step - loss: 0.4710 - accuracy: 0.8329 - val_loss: 0.4435 - val_accuracy: 0.8442\n",
            "Epoch 3/10\n",
            "938/938 [==============================] - 13s 13ms/step - loss: 0.4018 - accuracy: 0.8572 - val_loss: 0.4264 - val_accuracy: 0.8492\n",
            "Epoch 4/10\n",
            "938/938 [==============================] - 13s 14ms/step - loss: 0.3731 - accuracy: 0.8662 - val_loss: 0.4024 - val_accuracy: 0.8589\n",
            "Epoch 5/10\n",
            "938/938 [==============================] - 13s 14ms/step - loss: 0.3461 - accuracy: 0.8754 - val_loss: 0.4001 - val_accuracy: 0.8584\n",
            "Epoch 6/10\n",
            "938/938 [==============================] - 13s 13ms/step - loss: 0.3273 - accuracy: 0.8820 - val_loss: 0.3663 - val_accuracy: 0.8709\n",
            "Epoch 7/10\n",
            "938/938 [==============================] - 15s 16ms/step - loss: 0.3130 - accuracy: 0.8866 - val_loss: 0.4098 - val_accuracy: 0.8575\n",
            "Epoch 8/10\n",
            "938/938 [==============================] - 13s 13ms/step - loss: 0.3027 - accuracy: 0.8898 - val_loss: 0.3619 - val_accuracy: 0.8706\n",
            "Epoch 9/10\n",
            "938/938 [==============================] - 13s 13ms/step - loss: 0.2898 - accuracy: 0.8940 - val_loss: 0.3817 - val_accuracy: 0.8600\n",
            "Epoch 10/10\n",
            "938/938 [==============================] - 13s 13ms/step - loss: 0.2798 - accuracy: 0.8976 - val_loss: 0.3364 - val_accuracy: 0.8806\n",
            "El código tardó 132.6791114807129 segundos en ejecutarse.\n"
          ]
        },
        {
          "output_type": "display_data",
          "data": {
            "text/plain": [
              "<Figure size 800x500 with 1 Axes>"
            ],
            "image/png": "[encoded data removed]"
          },
          "metadata": {}
        }
      ]
    },
    {
      "cell_type": "markdown",
      "source": [
        "# Utilizando la funcion de activacion relu"
      ],
      "metadata": {
        "id": "7TTJw-qZTqrd"
      }
    },
    {
      "cell_type": "code",
      "source": [
        "import time\n",
        "inicio = time.time()\n",
        "\n",
        "model= keras.models.Sequential()\n",
        "model.add(keras.layers.Flatten(input_shape=[28,28]))\n",
        "model.add(keras.layers.Dense(300, activation=\"relu\"))\n",
        "model.add(keras.layers.Dense(300, activation=\"relu\"))\n",
        "model.add(keras.layers.Dense(300, activation=\"relu\"))\n",
        "model.add(keras.layers.Dense(300, activation=\"relu\"))\n",
        "model.add(keras.layers.Dense(300, activation=\"relu\"))\n",
        "model.add(keras.layers.Dense(10, activation=\"softmax\"))\n",
        "\n",
        "model.compile(optimizer='adam',\n",
        "            loss='sparse_categorical_crossentropy',\n",
        "            metrics=['accuracy'])\n",
        "\n",
        "history = model.fit(\n",
        "    training_images,\n",
        "    training_labels,\n",
        "    epochs=10,\n",
        "    batch_size=64,\n",
        "    validation_data=(test_images, test_labels)\n",
        "  )\n",
        "\n",
        "fin = time.time()\n",
        "tiempo_transcurrido = fin - inicio\n",
        "print(f\"El código tardó {tiempo_transcurrido} segundos en ejecutarse.\")\n",
        "\n",
        "import pandas as pd\n",
        "import matplotlib.pyplot as plt\n",
        "\n",
        "pd.DataFrame(history.history).plot(figsize=(8,5))\n",
        "plt.grid(True)\n",
        "plt.gca().set_ylim(0,1)\n",
        "plt.show()"
      ],
      "metadata": {
        "id": "Eduwye9zNcAb",
        "colab": {
          "base_uri": "https://localhost:8080/",
          "height": 826
        },
        "outputId": "0a5176af-31ff-42c2-f608-622e99f588b6"
      },
      "execution_count": null,
      "outputs": [
        {
          "output_type": "stream",
          "name": "stdout",
          "text": [
            "Epoch 1/10\n",
            "938/938 [==============================] - 14s 13ms/step - loss: 0.4995 - accuracy: 0.8168 - val_loss: 0.4811 - val_accuracy: 0.8090\n",
            "Epoch 2/10\n",
            "938/938 [==============================] - 12s 13ms/step - loss: 0.3752 - accuracy: 0.8630 - val_loss: 0.3860 - val_accuracy: 0.8640\n",
            "Epoch 3/10\n",
            "938/938 [==============================] - 12s 13ms/step - loss: 0.3376 - accuracy: 0.8771 - val_loss: 0.3958 - val_accuracy: 0.8611\n",
            "Epoch 4/10\n",
            "938/938 [==============================] - 12s 13ms/step - loss: 0.3180 - accuracy: 0.8831 - val_loss: 0.3564 - val_accuracy: 0.8763\n",
            "Epoch 5/10\n",
            "938/938 [==============================] - 12s 13ms/step - loss: 0.2965 - accuracy: 0.8906 - val_loss: 0.3483 - val_accuracy: 0.8795\n",
            "Epoch 6/10\n",
            "938/938 [==============================] - 12s 13ms/step - loss: 0.2807 - accuracy: 0.8967 - val_loss: 0.3356 - val_accuracy: 0.8804\n",
            "Epoch 7/10\n",
            "938/938 [==============================] - 12s 13ms/step - loss: 0.2716 - accuracy: 0.8989 - val_loss: 0.3503 - val_accuracy: 0.8755\n",
            "Epoch 8/10\n",
            "938/938 [==============================] - 12s 13ms/step - loss: 0.2582 - accuracy: 0.9032 - val_loss: 0.3529 - val_accuracy: 0.8810\n",
            "Epoch 9/10\n",
            "938/938 [==============================] - 12s 13ms/step - loss: 0.2481 - accuracy: 0.9068 - val_loss: 0.3531 - val_accuracy: 0.8827\n",
            "Epoch 10/10\n",
            "938/938 [==============================] - 12s 13ms/step - loss: 0.2402 - accuracy: 0.9097 - val_loss: 0.3423 - val_accuracy: 0.8813\n",
            "El código tardó 123.64391136169434 segundos en ejecutarse.\n"
          ]
        },
        {
          "output_type": "display_data",
          "data": {
            "text/plain": [
              "<Figure size 800x500 with 1 Axes>"
            ],
            "image/png": "[encoded data removed]"
          },
          "metadata": {}
        }
      ]
    },
    {
      "cell_type": "markdown",
      "source": [
        "# Resultado analisis\n",
        "\n",
        "Las siguientes son observaciones identificadas a raiz del proceso\n",
        "\n",
        "* La funcion de activacion relu resulta ser mas eficiente dada a su simplicidad. Mejorando los tiempos de ejecucion\n",
        "* La red neuronal puede converger mas rapidamente, el ejemplo actual, vemos como el modelo con relu llego a un accuracy del 80% en menos epochs que sigmoid\n",
        "*   Dado aque imprimimos el tiempo de ejecucion, es evidente que pese a tener los mismos parametros de configuracion, la red entreganada con las capas ocultas sigmoid tardaron mas en su proceso de entrenamiento que la red con relu. Esto lo puede verificar en el valor impreso para sus tiempos\n",
        "* La funcion sigmoid, ademas, dado su forma, tiende a saturar los valores, lo cual, a lo largo del tiempo puede implicar problemas con valores muy grandes o muy pequeños\n",
        "\n",
        "\n",
        "\n",
        "\n"
      ],
      "metadata": {
        "id": "W6RrUPCbTyjx"
      }
    },
    {
      "cell_type": "markdown",
      "metadata": {
        "id": "pu6RbUFKTFqT"
      },
      "source": [
        "## 10. Inicialización de parámetros"
      ]
    },
    {
      "cell_type": "markdown",
      "metadata": {
        "id": "Abmm05UPTFqU"
      },
      "source": [
        "En este ejercicio, vamos a evaluar la importancia de una correcta inicialización de parámetros en una red neuronal.\n",
        "\n",
        "**Ejercicio 10 *(0.75 puntos)***: Partiendo de una red similar a la del ejercicio anterior (usando ya ReLUs), comentar las diferencias que se aprecian en el entrenamiento al utilizar distintas estrategias de inicialización de parámetros. Para ello, inicializar todas las capas con las siguientes estrategias, disponibles en Keras, y analizar sus diferencias:\n",
        "\n",
        "* Inicialización con ceros.\n",
        "* Inicialización con una variable aleatoria normal.\n",
        "* Inicialización con los valores por defecto de Keras para una capa Dense (estrategia *glorot uniform*)"
      ]
    },
    {
      "cell_type": "markdown",
      "source": [
        "# inicialización con ceros."
      ],
      "metadata": {
        "id": "YdNaif6ekUhj"
      }
    },
    {
      "cell_type": "code",
      "source": [
        "import time\n",
        "inicio = time.time()\n",
        "\n",
        "model= keras.models.Sequential()\n",
        "model.add(keras.layers.Flatten(input_shape=[28,28]))\n",
        "model.add(keras.layers.Dense(300, activation=\"relu\", kernel_initializer='zeros'))\n",
        "model.add(keras.layers.Dense(10, activation=\"softmax\"))\n",
        "\n",
        "model.compile(optimizer='adam',\n",
        "            loss='sparse_categorical_crossentropy',\n",
        "            metrics=['accuracy'])\n",
        "\n",
        "history = model.fit(\n",
        "    training_images,\n",
        "    training_labels,\n",
        "    epochs=10,\n",
        "    batch_size=64,\n",
        "    validation_data=(test_images, test_labels)\n",
        "  )\n",
        "\n",
        "fin = time.time()\n",
        "tiempo_transcurrido = fin - inicio\n",
        "print(f\"El código tardó {tiempo_transcurrido} segundos en ejecutarse.\")\n",
        "\n",
        "import pandas as pd\n",
        "import matplotlib.pyplot as plt\n",
        "\n",
        "pd.DataFrame(history.history).plot(figsize=(8,5))\n",
        "plt.grid(True)\n",
        "plt.gca().set_ylim(0,1)\n",
        "plt.show()"
      ],
      "metadata": {
        "colab": {
          "base_uri": "https://localhost:8080/",
          "height": 826
        },
        "id": "3xn3Bd2abHrc",
        "outputId": "aa726cac-9f88-48cf-d381-142bd9e6fbf2"
      },
      "execution_count": 33,
      "outputs": [
        {
          "output_type": "stream",
          "name": "stdout",
          "text": [
            "Epoch 1/10\n",
            "938/938 [==============================] - 7s 7ms/step - loss: 2.3027 - accuracy: 0.0990 - val_loss: 2.3026 - val_accuracy: 0.1000\n",
            "Epoch 2/10\n",
            "938/938 [==============================] - 6s 6ms/step - loss: 2.3027 - accuracy: 0.1002 - val_loss: 2.3026 - val_accuracy: 0.1000\n",
            "Epoch 3/10\n",
            "938/938 [==============================] - 6s 7ms/step - loss: 2.3027 - accuracy: 0.0973 - val_loss: 2.3026 - val_accuracy: 0.1000\n",
            "Epoch 4/10\n",
            "938/938 [==============================] - 6s 6ms/step - loss: 2.3027 - accuracy: 0.0990 - val_loss: 2.3027 - val_accuracy: 0.1000\n",
            "Epoch 5/10\n",
            "938/938 [==============================] - 7s 7ms/step - loss: 2.3027 - accuracy: 0.0985 - val_loss: 2.3026 - val_accuracy: 0.1000\n",
            "Epoch 6/10\n",
            "938/938 [==============================] - 6s 6ms/step - loss: 2.3027 - accuracy: 0.0988 - val_loss: 2.3026 - val_accuracy: 0.1000\n",
            "Epoch 7/10\n",
            "938/938 [==============================] - 7s 7ms/step - loss: 2.3027 - accuracy: 0.1000 - val_loss: 2.3027 - val_accuracy: 0.1000\n",
            "Epoch 8/10\n",
            "938/938 [==============================] - 6s 6ms/step - loss: 2.3027 - accuracy: 0.1001 - val_loss: 2.3026 - val_accuracy: 0.1000\n",
            "Epoch 9/10\n",
            "938/938 [==============================] - 6s 7ms/step - loss: 2.3027 - accuracy: 0.0981 - val_loss: 2.3026 - val_accuracy: 0.1000\n",
            "Epoch 10/10\n",
            "938/938 [==============================] - 6s 6ms/step - loss: 2.3027 - accuracy: 0.0990 - val_loss: 2.3026 - val_accuracy: 0.1000\n",
            "El código tardó 83.55485439300537 segundos en ejecutarse.\n"
          ]
        },
        {
          "output_type": "display_data",
          "data": {
            "text/plain": [
              "<Figure size 800x500 with 1 Axes>"
            ],
            "image/png": "[encoded data removed]"
          },
          "metadata": {}
        }
      ]
    },
    {
      "cell_type": "markdown",
      "source": [
        "# Inicialización con una variable aleatoria normal.\n",
        "\n"
      ],
      "metadata": {
        "id": "UfPOj658kqMt"
      }
    },
    {
      "cell_type": "code",
      "source": [
        "import time\n",
        "inicio = time.time()\n",
        "\n",
        "model= keras.models.Sequential()\n",
        "model.add(keras.layers.Flatten(input_shape=[28,28]))\n",
        "model.add(keras.layers.Dense(\n",
        "                        300,\n",
        "                        activation=\"relu\",\n",
        "                        kernel_initializer=tf.keras.initializers.RandomNormal(mean=0.0, stddev=1.0)\n",
        "                        )\n",
        ")\n",
        "model.add(keras.layers.Dense(10, activation=\"softmax\"))\n",
        "\n",
        "model.compile(optimizer='adam',\n",
        "            loss='sparse_categorical_crossentropy',\n",
        "            metrics=['accuracy'])\n",
        "\n",
        "history = model.fit(\n",
        "    training_images,\n",
        "    training_labels,\n",
        "    epochs=10,\n",
        "    batch_size=64,\n",
        "    validation_data=(test_images, test_labels)\n",
        "  )\n",
        "\n",
        "fin = time.time()\n",
        "tiempo_transcurrido = fin - inicio\n",
        "print(f\"El código tardó {tiempo_transcurrido} segundos en ejecutarse.\")\n",
        "\n",
        "import pandas as pd\n",
        "import matplotlib.pyplot as plt\n",
        "\n",
        "pd.DataFrame(history.history).plot(figsize=(8,5))\n",
        "plt.grid(True)\n",
        "plt.gca().set_ylim(0,1)\n",
        "plt.show()"
      ],
      "metadata": {
        "colab": {
          "base_uri": "https://localhost:8080/",
          "height": 826
        },
        "id": "oJMl9Sx5kuVM",
        "outputId": "5b8a7c67-56b4-4823-94e1-6a4ebf56a871"
      },
      "execution_count": 34,
      "outputs": [
        {
          "output_type": "stream",
          "name": "stdout",
          "text": [
            "Epoch 1/10\n",
            "938/938 [==============================] - 7s 7ms/step - loss: 1.0984 - accuracy: 0.7557 - val_loss: 0.6824 - val_accuracy: 0.8085\n",
            "Epoch 2/10\n",
            "938/938 [==============================] - 6s 6ms/step - loss: 0.5519 - accuracy: 0.8312 - val_loss: 0.5880 - val_accuracy: 0.8209\n",
            "Epoch 3/10\n",
            "938/938 [==============================] - 7s 7ms/step - loss: 0.4416 - accuracy: 0.8529 - val_loss: 0.5192 - val_accuracy: 0.8274\n",
            "Epoch 4/10\n",
            "938/938 [==============================] - 5s 6ms/step - loss: 0.3878 - accuracy: 0.8645 - val_loss: 0.4489 - val_accuracy: 0.8533\n",
            "Epoch 5/10\n",
            "938/938 [==============================] - 8s 8ms/step - loss: 0.3556 - accuracy: 0.8736 - val_loss: 0.4235 - val_accuracy: 0.8596\n",
            "Epoch 6/10\n",
            "938/938 [==============================] - 7s 7ms/step - loss: 0.3293 - accuracy: 0.8804 - val_loss: 0.4297 - val_accuracy: 0.8523\n",
            "Epoch 7/10\n",
            "938/938 [==============================] - 6s 7ms/step - loss: 0.3114 - accuracy: 0.8872 - val_loss: 0.4093 - val_accuracy: 0.8587\n",
            "Epoch 8/10\n",
            "938/938 [==============================] - 6s 6ms/step - loss: 0.2918 - accuracy: 0.8923 - val_loss: 0.4226 - val_accuracy: 0.8570\n",
            "Epoch 9/10\n",
            "938/938 [==============================] - 7s 7ms/step - loss: 0.2771 - accuracy: 0.8982 - val_loss: 0.4065 - val_accuracy: 0.8653\n",
            "Epoch 10/10\n",
            "938/938 [==============================] - 6s 6ms/step - loss: 0.2621 - accuracy: 0.9030 - val_loss: 0.4251 - val_accuracy: 0.8612\n",
            "El código tardó 83.17687702178955 segundos en ejecutarse.\n"
          ]
        },
        {
          "output_type": "display_data",
          "data": {
            "text/plain": [
              "<Figure size 800x500 with 1 Axes>"
            ],
            "image/png": "[encoded data removed]"
          },
          "metadata": {}
        }
      ]
    },
    {
      "cell_type": "markdown",
      "source": [
        "# Inicialización con los valores por defecto de Keras para una capa Dense (estrategia glorot uniform)"
      ],
      "metadata": {
        "id": "FT1CFpQcoptL"
      }
    },
    {
      "cell_type": "code",
      "source": [
        "import time\n",
        "inicio = time.time()\n",
        "\n",
        "model= keras.models.Sequential()\n",
        "model.add(keras.layers.Flatten(input_shape=[28,28]))\n",
        "model.add(keras.layers.Dense(300, activation=\"relu\"))\n",
        "model.add(keras.layers.Dense(10, activation=\"softmax\"))\n",
        "\n",
        "model.compile(optimizer='adam',\n",
        "            loss='sparse_categorical_crossentropy',\n",
        "            metrics=['accuracy'])\n",
        "\n",
        "history = model.fit(\n",
        "    training_images,\n",
        "    training_labels,\n",
        "    epochs=10,\n",
        "    batch_size=64,\n",
        "    validation_data=(test_images, test_labels)\n",
        "  )\n",
        "\n",
        "fin = time.time()\n",
        "tiempo_transcurrido = fin - inicio\n",
        "print(f\"El código tardó {tiempo_transcurrido} segundos en ejecutarse.\")\n",
        "\n",
        "import pandas as pd\n",
        "import matplotlib.pyplot as plt\n",
        "\n",
        "pd.DataFrame(history.history).plot(figsize=(8,5))\n",
        "plt.grid(True)\n",
        "plt.gca().set_ylim(0,1)\n",
        "plt.show()"
      ],
      "metadata": {
        "colab": {
          "base_uri": "https://localhost:8080/",
          "height": 826
        },
        "id": "lcM6f5hVolxg",
        "outputId": "6da298d4-5912-4469-af07-bce4115be132"
      },
      "execution_count": 35,
      "outputs": [
        {
          "output_type": "stream",
          "name": "stdout",
          "text": [
            "Epoch 1/10\n",
            "938/938 [==============================] - 7s 6ms/step - loss: 0.4948 - accuracy: 0.8256 - val_loss: 0.4217 - val_accuracy: 0.8487\n",
            "Epoch 2/10\n",
            "938/938 [==============================] - 6s 7ms/step - loss: 0.3687 - accuracy: 0.8663 - val_loss: 0.3911 - val_accuracy: 0.8568\n",
            "Epoch 3/10\n",
            "938/938 [==============================] - 6s 6ms/step - loss: 0.3327 - accuracy: 0.8774 - val_loss: 0.3767 - val_accuracy: 0.8664\n",
            "Epoch 4/10\n",
            "938/938 [==============================] - 7s 7ms/step - loss: 0.3056 - accuracy: 0.8871 - val_loss: 0.3441 - val_accuracy: 0.8770\n",
            "Epoch 5/10\n",
            "938/938 [==============================] - 6s 6ms/step - loss: 0.2874 - accuracy: 0.8939 - val_loss: 0.3681 - val_accuracy: 0.8673\n",
            "Epoch 6/10\n",
            "938/938 [==============================] - 7s 7ms/step - loss: 0.2709 - accuracy: 0.8996 - val_loss: 0.3346 - val_accuracy: 0.8753\n",
            "Epoch 7/10\n",
            "938/938 [==============================] - 6s 6ms/step - loss: 0.2562 - accuracy: 0.9046 - val_loss: 0.3419 - val_accuracy: 0.8831\n",
            "Epoch 8/10\n",
            "938/938 [==============================] - 7s 7ms/step - loss: 0.2496 - accuracy: 0.9064 - val_loss: 0.3553 - val_accuracy: 0.8758\n",
            "Epoch 9/10\n",
            "938/938 [==============================] - 6s 6ms/step - loss: 0.2398 - accuracy: 0.9111 - val_loss: 0.3307 - val_accuracy: 0.8872\n",
            "Epoch 10/10\n",
            "938/938 [==============================] - 7s 8ms/step - loss: 0.2269 - accuracy: 0.9162 - val_loss: 0.3244 - val_accuracy: 0.8908\n",
            "El código tardó 64.66000771522522 segundos en ejecutarse.\n"
          ]
        },
        {
          "output_type": "display_data",
          "data": {
            "text/plain": [
              "<Figure size 800x500 with 1 Axes>"
            ],
            "image/png": "[encoded data removed]"
          },
          "metadata": {}
        }
      ]
    },
    {
      "cell_type": "markdown",
      "source": [
        "# Resultados:\n",
        "\n",
        "Luego de realizar las 3 inicializaciones solicitadas, resulta interesante evidenciar el efecto de cada paso sobre la red.\n",
        "\n",
        "\n",
        "\n",
        "*   Si inicializamos los pesos de la red en cero, tendremos un impacto directo en el proceso de aprendizaje de la red neuronal. Esto se debe a que todas las neuronas en la capa compartirán el mismo valor inicial, lo que resultará en que todas ellas aprendan idénticas representaciones de los datos.\n",
        "\n",
        "*   En este caso en particular, iniciar con los pesos distribuidos normalmente permite a la red inicializar y aprender de forma adecuada, sin embargo, evidenciamos que el loss inicial es muy grande, y definitivamente requirio un ajuste mayor.\n",
        "\n",
        "* Iniciaalizar los pesos con la configuracion estandar de Keras brindo el mejor punto inicial, totalmente en comparacion con la inicializacion de pesos en cero, y brindo un mejor punto de inicio que la distribucion normal.\n",
        "\n"
      ],
      "metadata": {
        "id": "1OCt9Abe5eh_"
      }
    },
    {
      "cell_type": "markdown",
      "metadata": {
        "id": "NqIAyVWrTFqV"
      },
      "source": [
        "## 11. Optimizadores"
      ]
    },
    {
      "cell_type": "markdown",
      "metadata": {
        "id": "lcYj29hYTFqW"
      },
      "source": [
        "**Ejercicio 11 *(0.75 puntos)***: Partiendo de una red similar a la del ejercicio anterior (utilizando la mejor estrategia de inicialización observada), comparar y analizar las diferencias que se observan  al entrenar con varios de los optimizadores vistos en clase, incluyendo SGD como optimizador básico (se puede explorar el espacio de hiperparámetros de cada optimizador, aunque para optimizadores más avanzados del estilo de adam y RMSprop es buena idea dejar los valores por defecto provistos por Keras)."
      ]
    },
    {
      "cell_type": "markdown",
      "source": [
        "# Red con optimizador SGD"
      ],
      "metadata": {
        "id": "HzLpHkNn73OD"
      }
    },
    {
      "cell_type": "code",
      "source": [
        "import time\n",
        "inicio = time.time()\n",
        "\n",
        "model= keras.models.Sequential()\n",
        "model.add(keras.layers.Flatten(input_shape=[28,28]))\n",
        "model.add(keras.layers.Dense(300, activation=\"relu\"))\n",
        "model.add(keras.layers.Dense(10, activation=\"softmax\"))\n",
        "\n",
        "model.compile(optimizer='sgd',\n",
        "            loss='sparse_categorical_crossentropy',\n",
        "            metrics=['accuracy'])\n",
        "\n",
        "history = model.fit(\n",
        "    training_images,\n",
        "    training_labels,\n",
        "    epochs=10,\n",
        "    batch_size=64,\n",
        "    validation_data=(test_images, test_labels)\n",
        "  )\n",
        "\n",
        "fin = time.time()\n",
        "tiempo_transcurrido = fin - inicio\n",
        "print(f\"El código tardó {tiempo_transcurrido} segundos en ejecutarse.\")\n",
        "\n",
        "import pandas as pd\n",
        "import matplotlib.pyplot as plt\n",
        "\n",
        "pd.DataFrame(history.history).plot(figsize=(8,5))\n",
        "plt.grid(True)\n",
        "plt.gca().set_ylim(0,1)\n",
        "plt.show()"
      ],
      "metadata": {
        "colab": {
          "base_uri": "https://localhost:8080/",
          "height": 826
        },
        "id": "8QvIr5Qm7Ubl",
        "outputId": "c2879274-c4c6-44cf-fb7b-13ce724845ea"
      },
      "execution_count": 36,
      "outputs": [
        {
          "output_type": "stream",
          "name": "stdout",
          "text": [
            "Epoch 1/10\n",
            "938/938 [==============================] - 5s 5ms/step - loss: 0.8560 - accuracy: 0.7340 - val_loss: 0.6434 - val_accuracy: 0.7858\n",
            "Epoch 2/10\n",
            "938/938 [==============================] - 6s 6ms/step - loss: 0.5715 - accuracy: 0.8124 - val_loss: 0.5591 - val_accuracy: 0.8097\n",
            "Epoch 3/10\n",
            "938/938 [==============================] - 4s 5ms/step - loss: 0.5148 - accuracy: 0.8272 - val_loss: 0.5239 - val_accuracy: 0.8187\n",
            "Epoch 4/10\n",
            "938/938 [==============================] - 4s 5ms/step - loss: 0.4851 - accuracy: 0.8345 - val_loss: 0.4982 - val_accuracy: 0.8286\n",
            "Epoch 5/10\n",
            "938/938 [==============================] - 5s 6ms/step - loss: 0.4655 - accuracy: 0.8408 - val_loss: 0.4999 - val_accuracy: 0.8266\n",
            "Epoch 6/10\n",
            "938/938 [==============================] - 4s 5ms/step - loss: 0.4504 - accuracy: 0.8450 - val_loss: 0.4710 - val_accuracy: 0.8362\n",
            "Epoch 7/10\n",
            "938/938 [==============================] - 5s 5ms/step - loss: 0.4392 - accuracy: 0.8493 - val_loss: 0.4728 - val_accuracy: 0.8368\n",
            "Epoch 8/10\n",
            "938/938 [==============================] - 4s 5ms/step - loss: 0.4284 - accuracy: 0.8533 - val_loss: 0.4588 - val_accuracy: 0.8406\n",
            "Epoch 9/10\n",
            "938/938 [==============================] - 4s 5ms/step - loss: 0.4200 - accuracy: 0.8548 - val_loss: 0.4517 - val_accuracy: 0.8404\n",
            "Epoch 10/10\n",
            "938/938 [==============================] - 5s 6ms/step - loss: 0.4124 - accuracy: 0.8582 - val_loss: 0.4520 - val_accuracy: 0.8419\n",
            "El código tardó 82.87080478668213 segundos en ejecutarse.\n"
          ]
        },
        {
          "output_type": "display_data",
          "data": {
            "text/plain": [
              "<Figure size 800x500 with 1 Axes>"
            ],
            "image/png": "[encoded data removed]"
          },
          "metadata": {}
        }
      ]
    },
    {
      "cell_type": "markdown",
      "source": [
        "# Red con optimizador ADAM"
      ],
      "metadata": {
        "id": "d3v6Rs7O78w3"
      }
    },
    {
      "cell_type": "code",
      "source": [
        "import time\n",
        "inicio = time.time()\n",
        "\n",
        "model= keras.models.Sequential()\n",
        "model.add(keras.layers.Flatten(input_shape=[28,28]))\n",
        "model.add(keras.layers.Dense(300, activation=\"relu\"))\n",
        "model.add(keras.layers.Dense(10, activation=\"softmax\"))\n",
        "\n",
        "model.compile(optimizer='adam',\n",
        "            loss='sparse_categorical_crossentropy',\n",
        "            metrics=['accuracy'])\n",
        "\n",
        "history = model.fit(\n",
        "    training_images,\n",
        "    training_labels,\n",
        "    epochs=10,\n",
        "    batch_size=64,\n",
        "    validation_data=(test_images, test_labels)\n",
        "  )\n",
        "\n",
        "fin = time.time()\n",
        "tiempo_transcurrido = fin - inicio\n",
        "print(f\"El código tardó {tiempo_transcurrido} segundos en ejecutarse.\")\n",
        "\n",
        "import pandas as pd\n",
        "import matplotlib.pyplot as plt\n",
        "\n",
        "pd.DataFrame(history.history).plot(figsize=(8,5))\n",
        "plt.grid(True)\n",
        "plt.gca().set_ylim(0,1)\n",
        "plt.show()"
      ],
      "metadata": {
        "colab": {
          "base_uri": "https://localhost:8080/",
          "height": 826
        },
        "id": "v3Tfc12R7Ume",
        "outputId": "f4a6e233-38b4-4cd1-b76c-16f437b75e1a"
      },
      "execution_count": 37,
      "outputs": [
        {
          "output_type": "stream",
          "name": "stdout",
          "text": [
            "Epoch 1/10\n",
            "938/938 [==============================] - 7s 7ms/step - loss: 0.4964 - accuracy: 0.8281 - val_loss: 0.4189 - val_accuracy: 0.8508\n",
            "Epoch 2/10\n",
            "938/938 [==============================] - 7s 7ms/step - loss: 0.3690 - accuracy: 0.8664 - val_loss: 0.3977 - val_accuracy: 0.8542\n",
            "Epoch 3/10\n",
            "938/938 [==============================] - 6s 6ms/step - loss: 0.3306 - accuracy: 0.8793 - val_loss: 0.3654 - val_accuracy: 0.8669\n",
            "Epoch 4/10\n",
            "938/938 [==============================] - 6s 7ms/step - loss: 0.3060 - accuracy: 0.8876 - val_loss: 0.3495 - val_accuracy: 0.8731\n",
            "Epoch 5/10\n",
            "938/938 [==============================] - 6s 6ms/step - loss: 0.2850 - accuracy: 0.8953 - val_loss: 0.3334 - val_accuracy: 0.8808\n",
            "Epoch 6/10\n",
            "938/938 [==============================] - 6s 7ms/step - loss: 0.2732 - accuracy: 0.8988 - val_loss: 0.3433 - val_accuracy: 0.8782\n",
            "Epoch 7/10\n",
            "938/938 [==============================] - 6s 6ms/step - loss: 0.2594 - accuracy: 0.9044 - val_loss: 0.3275 - val_accuracy: 0.8828\n",
            "Epoch 8/10\n",
            "938/938 [==============================] - 6s 7ms/step - loss: 0.2468 - accuracy: 0.9085 - val_loss: 0.3170 - val_accuracy: 0.8885\n",
            "Epoch 9/10\n",
            "938/938 [==============================] - 6s 6ms/step - loss: 0.2374 - accuracy: 0.9115 - val_loss: 0.3402 - val_accuracy: 0.8797\n",
            "Epoch 10/10\n",
            "938/938 [==============================] - 6s 7ms/step - loss: 0.2285 - accuracy: 0.9145 - val_loss: 0.3289 - val_accuracy: 0.8852\n",
            "El código tardó 62.32201051712036 segundos en ejecutarse.\n"
          ]
        },
        {
          "output_type": "display_data",
          "data": {
            "text/plain": [
              "<Figure size 800x500 with 1 Axes>"
            ],
            "image/png": "[encoded data removed]"
          },
          "metadata": {}
        }
      ]
    },
    {
      "cell_type": "markdown",
      "source": [
        "# Red con optimizador RMSPROP"
      ],
      "metadata": {
        "id": "bksXMDFP8AFW"
      }
    },
    {
      "cell_type": "code",
      "source": [
        "import time\n",
        "inicio = time.time()\n",
        "\n",
        "model= keras.models.Sequential()\n",
        "model.add(keras.layers.Flatten(input_shape=[28,28]))\n",
        "model.add(keras.layers.Dense(300, activation=\"relu\"))\n",
        "model.add(keras.layers.Dense(10, activation=\"softmax\"))\n",
        "\n",
        "model.compile(optimizer='rmsprop',\n",
        "            loss='sparse_categorical_crossentropy',\n",
        "            metrics=['accuracy'])\n",
        "\n",
        "history = model.fit(\n",
        "    training_images,\n",
        "    training_labels,\n",
        "    epochs=10,\n",
        "    batch_size=64,\n",
        "    validation_data=(test_images, test_labels)\n",
        "  )\n",
        "\n",
        "fin = time.time()\n",
        "tiempo_transcurrido = fin - inicio\n",
        "print(f\"El código tardó {tiempo_transcurrido} segundos en ejecutarse.\")\n",
        "\n",
        "import pandas as pd\n",
        "import matplotlib.pyplot as plt\n",
        "\n",
        "pd.DataFrame(history.history).plot(figsize=(8,5))\n",
        "plt.grid(True)\n",
        "plt.gca().set_ylim(0,1)\n",
        "plt.show()"
      ],
      "metadata": {
        "colab": {
          "base_uri": "https://localhost:8080/",
          "height": 826
        },
        "id": "n8XzDQD37weu",
        "outputId": "17839243-a5ee-48b2-ffbd-54dc0bf4227f"
      },
      "execution_count": 38,
      "outputs": [
        {
          "output_type": "stream",
          "name": "stdout",
          "text": [
            "Epoch 1/10\n",
            "938/938 [==============================] - 6s 6ms/step - loss: 0.5147 - accuracy: 0.8154 - val_loss: 0.4979 - val_accuracy: 0.8298\n",
            "Epoch 2/10\n",
            "938/938 [==============================] - 6s 7ms/step - loss: 0.3708 - accuracy: 0.8645 - val_loss: 0.4166 - val_accuracy: 0.8422\n",
            "Epoch 3/10\n",
            "938/938 [==============================] - 5s 6ms/step - loss: 0.3336 - accuracy: 0.8783 - val_loss: 0.3892 - val_accuracy: 0.8596\n",
            "Epoch 4/10\n",
            "938/938 [==============================] - 5s 6ms/step - loss: 0.3104 - accuracy: 0.8861 - val_loss: 0.3902 - val_accuracy: 0.8682\n",
            "Epoch 5/10\n",
            "938/938 [==============================] - 6s 7ms/step - loss: 0.2914 - accuracy: 0.8940 - val_loss: 0.3577 - val_accuracy: 0.8696\n",
            "Epoch 6/10\n",
            "938/938 [==============================] - 5s 6ms/step - loss: 0.2791 - accuracy: 0.8976 - val_loss: 0.3445 - val_accuracy: 0.8814\n",
            "Epoch 7/10\n",
            "938/938 [==============================] - 6s 6ms/step - loss: 0.2681 - accuracy: 0.9014 - val_loss: 0.3599 - val_accuracy: 0.8713\n",
            "Epoch 8/10\n",
            "938/938 [==============================] - 5s 5ms/step - loss: 0.2578 - accuracy: 0.9043 - val_loss: 0.3426 - val_accuracy: 0.8823\n",
            "Epoch 9/10\n",
            "938/938 [==============================] - 7s 7ms/step - loss: 0.2484 - accuracy: 0.9102 - val_loss: 0.3473 - val_accuracy: 0.8838\n",
            "Epoch 10/10\n",
            "938/938 [==============================] - 5s 6ms/step - loss: 0.2409 - accuracy: 0.9133 - val_loss: 0.3676 - val_accuracy: 0.8785\n",
            "El código tardó 58.854488134384155 segundos en ejecutarse.\n"
          ]
        },
        {
          "output_type": "display_data",
          "data": {
            "text/plain": [
              "<Figure size 800x500 with 1 Axes>"
            ],
            "image/png": "[encoded data removed]"
          },
          "metadata": {}
        }
      ]
    },
    {
      "cell_type": "markdown",
      "source": [
        "# Resultados\n",
        "\n",
        "Las diferencias entre los tres modelos se pueden observar principalmente en los valores de pérdida y precisión en el conjunto de entrenamiento y en el conjunto de validación, así como en el tiempo de ejecución. Aquí están las principales diferencias entre los modelos:\n",
        "\n",
        "Modelo 1:\n",
        "\n",
        "Pérdida final en el conjunto de validación: 0.4520\n",
        "Precisión final en el conjunto de validación: 0.8419\n",
        "Tiempo de ejecución: Aproximadamente 82.87 segundos\n",
        "Modelo 2:\n",
        "\n",
        "Pérdida final en el conjunto de validación: 0.3289\n",
        "Precisión final en el conjunto de validación: 0.8852\n",
        "Tiempo de ejecución: Aproximadamente 62.32 segundos\n",
        "Modelo 3:\n",
        "\n",
        "Pérdida final en el conjunto de validación: 0.3676\n",
        "Precisión final en el conjunto de validación: 0.8785\n",
        "Tiempo de ejecución: Aproximadamente 58.85 segundos\n",
        "Las diferencias clave a destacar son:\n",
        "\n",
        "Pérdida y precisión en el conjunto de validación: El Modelo 2 tiene la pérdida más baja en el conjunto de validación (0.3289) y la precisión más alta (0.8852), lo que indica que tiene el mejor rendimiento en datos no vistos.\n",
        "\n",
        "Tiempo de ejecución: El Modelo 1 tiene el tiempo de ejecución más largo (aproximadamente 82.87 segundos), seguido por el Modelo 2 (aproximadamente 62.32 segundos) y el Modelo 3 (aproximadamente 58.85 segundos). Esto podría ser importante si la eficiencia en el tiempo de entrenamiento es una consideración.\n",
        "\n",
        "En resumen, el Modelo 2 es el que muestra el mejor rendimiento en términos de precisión en el conjunto de validación, lo que sugiere que es el más efectivo para generalizar en datos no vistos. Sin embargo, el Modelo 3 también muestra un buen rendimiento."
      ],
      "metadata": {
        "id": "SzYoSkgY9v7b"
      }
    },
    {
      "cell_type": "markdown",
      "metadata": {
        "id": "BkfTFoJOTFqZ"
      },
      "source": [
        "## 12. Regularización y red final *(1.25 puntos)*"
      ]
    },
    {
      "cell_type": "markdown",
      "metadata": {
        "id": "f6CQhK7ZTFqZ"
      },
      "source": [
        "**Ejercicio 12 *(1 punto)***: Entrenar una red final que sea capaz de obtener una accuracy en el validation set cercana al 90%. Para ello, combinar todo lo aprendido anteriormente y utilizar técnicas de regularización para evitar overfitting. Algunos de los elementos que pueden tenerse en cuenta son los siguientes.\n",
        "\n",
        "* Número de capas y neuronas por capa\n",
        "* Optimizadores y sus parámetros\n",
        "* Batch size\n",
        "* Unidades de activación\n",
        "* Uso de capas dropout, regularización L2, regularización L1...\n",
        "* Early stopping (se puede aplicar como un callback de Keras, o se puede ver un poco \"a ojo\" cuándo el modelo empieza a caer en overfitting y seleccionar el número de epochs necesarias)\n",
        "* Batch normalization\n",
        "\n",
        "Si los modelos entrenados anteriormente ya se acercaban al valor requerido de accuracy, probar distintas estrategias igualmente y comentar los resultados.\n",
        "\n",
        "Explicar brevemente la estrategia seguida y los modelos probados para obtener el modelo final, que debe verse entrenado en este Notebook. No es necesario guardar el entrenamiento de todos los modelos que se han probado, es suficiente con explicar cómo se ha llegado al modelo final."
      ]
    },
    {
      "cell_type": "code",
      "source": [
        "import time\n",
        "from keras.models import Sequential\n",
        "from keras.layers import Dense, Flatten, Dropout\n",
        "from keras.regularizers import l2\n",
        "from keras.optimizers import Adam\n",
        "from keras.callbacks import EarlyStopping\n",
        "\n",
        "\n",
        "class myCallback(tf.keras.callbacks.Callback):\n",
        "      def on_epoch_end(self, epoch, logs={}):\n",
        "        if(logs.get('val_accuracy')> 0.9):\n",
        "              print(\"\\nAlcanzado el 90% de precisión, se cancela el entrenamiento!!\")\n",
        "              self.model.stop_training = True\n",
        "\n",
        "\n",
        "inicio = time.time()\n",
        "\n",
        "model = Sequential()\n",
        "model.add(Flatten(input_shape=[28, 28]))\n",
        "model.add(Dense(400, activation=\"relu\"))\n",
        "model.add(Dense(300, activation=\"relu\"))\n",
        "model.add(Dense(10, activation=\"softmax\"))\n",
        "\n",
        "model.compile(optimizer=\"adam\",\n",
        "              loss='sparse_categorical_crossentropy',\n",
        "              metrics=['accuracy'])\n",
        "\n",
        "early_stopping = myCallback()\n",
        "\n",
        "history = model.fit(\n",
        "    training_images,\n",
        "    training_labels,\n",
        "    epochs=100,\n",
        "    batch_size=100,\n",
        "    validation_data=(test_images, test_labels),\n",
        "    callbacks=[early_stopping]\n",
        ")\n",
        "\n",
        "fin = time.time()\n",
        "tiempo_transcurrido = fin - inicio\n",
        "print(f\"El código tardó {tiempo_transcurrido} segundos en ejecutarse.\")\n"
      ],
      "metadata": {
        "colab": {
          "base_uri": "https://localhost:8080/"
        },
        "id": "WUz208YJ_gbp",
        "outputId": "318e06bd-cca8-4138-c6b3-7135e0405c9b"
      },
      "execution_count": 16,
      "outputs": [
        {
          "output_type": "stream",
          "name": "stdout",
          "text": [
            "Epoch 1/100\n",
            "600/600 [==============================] - 9s 13ms/step - loss: 0.4896 - accuracy: 0.8248 - val_loss: 0.4041 - val_accuracy: 0.8535\n",
            "Epoch 2/100\n",
            "600/600 [==============================] - 7s 11ms/step - loss: 0.3585 - accuracy: 0.8673 - val_loss: 0.3806 - val_accuracy: 0.8600\n",
            "Epoch 3/100\n",
            "600/600 [==============================] - 6s 10ms/step - loss: 0.3163 - accuracy: 0.8824 - val_loss: 0.3484 - val_accuracy: 0.8707\n",
            "Epoch 4/100\n",
            "600/600 [==============================] - 7s 12ms/step - loss: 0.2938 - accuracy: 0.8901 - val_loss: 0.3411 - val_accuracy: 0.8769\n",
            "Epoch 5/100\n",
            "600/600 [==============================] - 6s 10ms/step - loss: 0.2754 - accuracy: 0.8974 - val_loss: 0.3359 - val_accuracy: 0.8798\n",
            "Epoch 6/100\n",
            "600/600 [==============================] - 7s 12ms/step - loss: 0.2603 - accuracy: 0.9028 - val_loss: 0.3300 - val_accuracy: 0.8797\n",
            "Epoch 7/100\n",
            "600/600 [==============================] - 6s 10ms/step - loss: 0.2484 - accuracy: 0.9059 - val_loss: 0.3302 - val_accuracy: 0.8826\n",
            "Epoch 8/100\n",
            "600/600 [==============================] - 6s 11ms/step - loss: 0.2355 - accuracy: 0.9103 - val_loss: 0.3256 - val_accuracy: 0.8863\n",
            "Epoch 9/100\n",
            "600/600 [==============================] - 5s 9ms/step - loss: 0.2238 - accuracy: 0.9155 - val_loss: 0.3228 - val_accuracy: 0.8881\n",
            "Epoch 10/100\n",
            "600/600 [==============================] - 7s 11ms/step - loss: 0.2157 - accuracy: 0.9177 - val_loss: 0.3689 - val_accuracy: 0.8742\n",
            "Epoch 11/100\n",
            "600/600 [==============================] - 5s 9ms/step - loss: 0.2098 - accuracy: 0.9208 - val_loss: 0.3349 - val_accuracy: 0.8912\n",
            "Epoch 12/100\n",
            "600/600 [==============================] - 7s 12ms/step - loss: 0.2007 - accuracy: 0.9238 - val_loss: 0.3339 - val_accuracy: 0.8882\n",
            "Epoch 13/100\n",
            "600/600 [==============================] - 5s 9ms/step - loss: 0.1908 - accuracy: 0.9275 - val_loss: 0.3290 - val_accuracy: 0.8925\n",
            "Epoch 14/100\n",
            "600/600 [==============================] - 8s 14ms/step - loss: 0.1823 - accuracy: 0.9297 - val_loss: 0.3399 - val_accuracy: 0.8877\n",
            "Epoch 15/100\n",
            "600/600 [==============================] - 6s 9ms/step - loss: 0.1776 - accuracy: 0.9320 - val_loss: 0.3298 - val_accuracy: 0.8913\n",
            "Epoch 16/100\n",
            "600/600 [==============================] - 6s 10ms/step - loss: 0.1686 - accuracy: 0.9352 - val_loss: 0.3756 - val_accuracy: 0.8878\n",
            "Epoch 17/100\n",
            "600/600 [==============================] - 6s 10ms/step - loss: 0.1648 - accuracy: 0.9365 - val_loss: 0.3606 - val_accuracy: 0.8898\n",
            "Epoch 18/100\n",
            "600/600 [==============================] - 5s 9ms/step - loss: 0.1572 - accuracy: 0.9399 - val_loss: 0.3422 - val_accuracy: 0.8918\n",
            "Epoch 19/100\n",
            "600/600 [==============================] - 6s 10ms/step - loss: 0.1514 - accuracy: 0.9424 - val_loss: 0.3988 - val_accuracy: 0.8884\n",
            "Epoch 20/100\n",
            "600/600 [==============================] - 5s 9ms/step - loss: 0.1468 - accuracy: 0.9435 - val_loss: 0.3910 - val_accuracy: 0.8922\n",
            "Epoch 21/100\n",
            "600/600 [==============================] - 7s 11ms/step - loss: 0.1385 - accuracy: 0.9473 - val_loss: 0.3708 - val_accuracy: 0.8939\n",
            "Epoch 22/100\n",
            "600/600 [==============================] - 5s 9ms/step - loss: 0.1370 - accuracy: 0.9476 - val_loss: 0.3707 - val_accuracy: 0.8985\n",
            "Epoch 23/100\n",
            "600/600 [==============================] - 6s 10ms/step - loss: 0.1309 - accuracy: 0.9499 - val_loss: 0.3865 - val_accuracy: 0.8930\n",
            "Epoch 24/100\n",
            "600/600 [==============================] - 5s 9ms/step - loss: 0.1263 - accuracy: 0.9511 - val_loss: 0.4176 - val_accuracy: 0.8930\n",
            "Epoch 25/100\n",
            "600/600 [==============================] - 6s 10ms/step - loss: 0.1203 - accuracy: 0.9537 - val_loss: 0.4120 - val_accuracy: 0.8922\n",
            "Epoch 26/100\n",
            "600/600 [==============================] - 5s 9ms/step - loss: 0.1137 - accuracy: 0.9557 - val_loss: 0.4221 - val_accuracy: 0.8905\n",
            "Epoch 27/100\n",
            "600/600 [==============================] - 5s 9ms/step - loss: 0.1142 - accuracy: 0.9559 - val_loss: 0.4373 - val_accuracy: 0.8964\n",
            "Epoch 28/100\n",
            "600/600 [==============================] - 6s 10ms/step - loss: 0.1105 - accuracy: 0.9576 - val_loss: 0.4545 - val_accuracy: 0.8926\n",
            "Epoch 29/100\n",
            "600/600 [==============================] - 5s 9ms/step - loss: 0.1054 - accuracy: 0.9595 - val_loss: 0.4355 - val_accuracy: 0.8925\n",
            "Epoch 30/100\n",
            "600/600 [==============================] - 7s 11ms/step - loss: 0.1009 - accuracy: 0.9622 - val_loss: 0.4223 - val_accuracy: 0.8920\n",
            "Epoch 31/100\n",
            "595/600 [============================>.] - ETA: 0s - loss: 0.0957 - accuracy: 0.9631\n",
            "Alcanzado el 90% de precisión, se cancela el entrenamiento!!\n",
            "600/600 [==============================] - 5s 9ms/step - loss: 0.0955 - accuracy: 0.9632 - val_loss: 0.4521 - val_accuracy: 0.9001\n",
            "El código tardó 191.3227596282959 segundos en ejecutarse.\n"
          ]
        }
      ]
    },
    {
      "cell_type": "markdown",
      "source": [
        "Se alcanz el 90% de precision para el val_acurracy.La metodologia usada es:\n",
        "\n",
        "*   Se implementan dos capas densas con funcion de activacion relu ya que funcionan de la mejor forma.\n",
        "*   se utiliza un early stopping el cual detuvo el aprendizaje cuando el val_acurracy llego al 90%\n",
        "* El optimizer seleccionado es el Adam, dado a que mostro el mejor rendimiento en las pruebas realizadas\n",
        "* Se aumento el numero de epochs dado a que utilizaremos un early stopping.\n",
        "* Se altera el batch size con el objetivo de aumentar el tamaño de la muestra e incrementar su posibilidad de generalizacion y rating de aprendizaje.\n",
        "\n"
      ],
      "metadata": {
        "id": "uitvxmniXDvL"
      }
    },
    {
      "cell_type": "code",
      "source": [],
      "metadata": {
        "id": "5bWjVZrKYUbP"
      },
      "execution_count": null,
      "outputs": []
    }
  ]
}